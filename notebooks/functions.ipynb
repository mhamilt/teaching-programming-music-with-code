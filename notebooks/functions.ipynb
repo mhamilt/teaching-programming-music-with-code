{
 "cells": [
  {
   "cell_type": "markdown",
   "id": "3232cf5d",
   "metadata": {},
   "source": [
    "# Music and Functions"
   ]
  },
  {
   "cell_type": "code",
   "execution_count": 2,
   "id": "9b456256",
   "metadata": {},
   "outputs": [],
   "source": [
    "from wav_library import *"
   ]
  },
  {
   "cell_type": "markdown",
   "id": "ecf4b4ad",
   "metadata": {},
   "source": [
    "## Fade in"
   ]
  },
  {
   "cell_type": "markdown",
   "id": "303a0ef8",
   "metadata": {},
   "source": [
    "## Fade Out"
   ]
  },
  {
   "cell_type": "markdown",
   "id": "17806466",
   "metadata": {},
   "source": [
    "## ADSR"
   ]
  },
  {
   "cell_type": "markdown",
   "id": "00f6bfe5",
   "metadata": {},
   "source": [
    "## Wave Generator"
   ]
  },
  {
   "cell_type": "markdown",
   "id": "7b543c63",
   "metadata": {},
   "source": [
    "## Helper Functions"
   ]
  },
  {
   "cell_type": "markdown",
   "id": "00516c1f",
   "metadata": {},
   "source": [
    "## Piano Roll"
   ]
  },
  {
   "cell_type": "markdown",
   "id": "51848298",
   "metadata": {},
   "source": [
    "## Signal Processing"
   ]
  }
 ],
 "metadata": {
  "kernelspec": {
   "display_name": "Python 3 (ipykernel)",
   "language": "python",
   "name": "python3"
  },
  "language_info": {
   "codemirror_mode": {
    "name": "ipython",
    "version": 3
   },
   "file_extension": ".py",
   "mimetype": "text/x-python",
   "name": "python",
   "nbconvert_exporter": "python",
   "pygments_lexer": "ipython3",
   "version": "3.11.7"
  }
 },
 "nbformat": 4,
 "nbformat_minor": 5
}
