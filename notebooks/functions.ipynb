{
 "cells": [
  {
   "cell_type": "markdown",
   "id": "3232cf5d",
   "metadata": {},
   "source": [
    "# Music and Functions"
   ]
  },
  {
   "cell_type": "code",
   "execution_count": null,
   "id": "b23b7bda",
   "metadata": {},
   "outputs": [],
   "source": [
    "from wav_library import *\n",
    "from math import sin, pi\n",
    "from IPython.display import Audio"
   ]
  },
  {
   "cell_type": "markdown",
   "id": "00f6bfe5",
   "metadata": {},
   "source": [
    "## Wave Generator"
   ]
  },
  {
   "cell_type": "markdown",
   "id": "dd0e37d4",
   "metadata": {},
   "source": [
    "So fare we have been creating sine waves like this:"
   ]
  },
  {
   "cell_type": "code",
   "execution_count": null,
   "id": "d999ebc2",
   "metadata": {},
   "outputs": [],
   "source": [
    "fs = 44100.0   # Sampling Rate \n",
    "f0 = 440.0     # Fundamental frequency\n",
    "duration = 1.0 # in seconds\n",
    "\n",
    "delta = 2.0 * pi * f0 / fs # how much does the phase change between samples\n",
    "\n",
    "sine_wave = [sin(delta * i) for i in range(int(duration*fs))]"
   ]
  },
  {
   "cell_type": "markdown",
   "id": "71348575",
   "metadata": {},
   "source": [
    "Which can be a little tedious to write, every isngle time. There is also more chance of making a mistake.\n",
    "\n",
    "What if instead we consolidate all of the above in order to write it in one line like:\n",
    "\n",
    "```py\n",
    "square_wave = make_note(freq=440, sample_rate=44100, duration=1.0, shape='square')\n",
    "```\n",
    "\n",
    "We can even make some default values so that we don't have to write them out explicitly.\n",
    "\n",
    "For this we create our own function"
   ]
  },
  {
   "cell_type": "code",
   "execution_count": null,
   "id": "ee558d80",
   "metadata": {},
   "outputs": [],
   "source": [
    "def make_note(freq, duration, sample_rate=44100, shape='sine'):\n",
    "    \n",
    "    f0 = freq\n",
    "    fs = sample_rate\n",
    "    delta = 2.0 * pi * f0 / fs\n",
    "    output = [sin(delta * i) for i in range(int(duration*fs))]\n",
    "    \n",
    "    return output"
   ]
  },
  {
   "cell_type": "code",
   "execution_count": null,
   "id": "c991c293",
   "metadata": {
    "scrolled": true
   },
   "outputs": [],
   "source": [
    "wave = make_note(440, 0.05, shape='triangle')\n",
    "Audio(data=wave, rate=fs)"
   ]
  },
  {
   "cell_type": "markdown",
   "id": "49de1b47",
   "metadata": {},
   "source": [
    "Now we can make all kinds of changes to our function to give it new options. Or maybe we find a better way of doing something and all we have to do is change the contents of function and the rest of our code will remain unchanged.\n",
    "\n",
    "We could add in the option for different wave shapes"
   ]
  },
  {
   "cell_type": "code",
   "execution_count": null,
   "id": "abff0dff",
   "metadata": {},
   "outputs": [],
   "source": [
    "def make_note(freq, duration, sample_rate=44100, shape='sine', num_harmonics = 10):\n",
    "    \n",
    "    f0 = freq\n",
    "    fs = sample_rate\n",
    "    num_samples = int(duration*fs)\n",
    "    \n",
    "    output = []\n",
    "    \n",
    "    if (shape == 'sine'):\n",
    "        delta = 2.0 * pi * f0 / fs\n",
    "        output = [sin(delta * i) for i in range(int(duration*fs))]\n",
    "    elif (shape == 'square'):\n",
    "        for i in range(num_samples):\n",
    "            output.append(0.0)\n",
    "            for k in range(1,num_harmonics,2):\n",
    "                gain = 1.0 / (f0 * (k+1))\n",
    "                delta = 2.0 * pi * f0 * k / fs \n",
    "                output[i] += gain*sin(delta * i)\n",
    "\n",
    "        maximum = max(output)\n",
    "\n",
    "        for i in range(num_samples):\n",
    "            output[i] *= 1.0 / maximum\n",
    "\n",
    "    elif (shape == 'triangle'):\n",
    "        num_harmonics = 10\n",
    "\n",
    "        for i in range(num_samples):\n",
    "            output.append(0.0)\n",
    "            for n in range(0,num_harmonics):\n",
    "                gain = ((-1.0)**(n)) / ((2*n+1)**2)\n",
    "                delta = 2.0 * pi * f0 * (2*n+1) / fs \n",
    "                output[i] += gain*sin(delta * i)\n",
    "\n",
    "        maximum = max(output)\n",
    "\n",
    "        for i in range(num_samples):\n",
    "            output[i] *= 1.0 / maximum\n",
    "    \n",
    "    return output"
   ]
  },
  {
   "cell_type": "code",
   "execution_count": null,
   "id": "d9bad7d7",
   "metadata": {},
   "outputs": [],
   "source": [
    "def make_rest(duration, sample_rate=44100):    \n",
    "    num_samples = int(duration*fs)\n",
    "    return [0.0 for x in range(num_samples)]"
   ]
  },
  {
   "cell_type": "markdown",
   "id": "96f56874",
   "metadata": {},
   "source": [
    "Instead of having to write:"
   ]
  },
  {
   "cell_type": "code",
   "execution_count": null,
   "id": "2b10a50b",
   "metadata": {},
   "outputs": [],
   "source": [
    "melody = []\n",
    "\n",
    "sampling_rate = 44100\n",
    "beats_per_minute = 240\n",
    "beats = 8\n",
    "beat_length = 60 / beats_per_minute\n",
    "note_length_seconds = beat_length / 2\n",
    "note_length_samples = int(note_length_seconds * sampling_rate)\n",
    "\n",
    "rest = [0.0 for x in range(note_length_samples)]\n",
    "a_major = [440.0,494.0,554.0,622.0,659.0,740.0,831.0,880.0]\n",
    "\n",
    "notes = []\n",
    "\n",
    "for freq in a_major:\n",
    "    delta = 2.0 * pi * freq / sampling_rate\n",
    "    note = [sin(delta * i) for i in range(note_length_samples)]\n",
    "    notes.append(note)\n",
    "\n",
    "for i in range(beats):\n",
    "    melody.extend(notes[i])\n",
    "    melody.extend(rest)"
   ]
  },
  {
   "cell_type": "markdown",
   "id": "ab655beb",
   "metadata": {},
   "source": [
    "with our new functions we can now write:"
   ]
  },
  {
   "cell_type": "code",
   "execution_count": null,
   "id": "88775afc",
   "metadata": {},
   "outputs": [],
   "source": [
    "a_major = [440.0,494.0,554.0,622.0,659.0,740.0,831.0,880.0]\n",
    "note_length = 0.1\n",
    "melody = []\n",
    "\n",
    "\n",
    "for freq in a_major:\n",
    "    melody.extend(make_note(freq, note_length))\n",
    "    melody.extend(make_rest(note_length))\n",
    "\n",
    "Audio(data=melody, rate=fs)"
   ]
  },
  {
   "cell_type": "code",
   "execution_count": null,
   "id": "053ae7b3",
   "metadata": {},
   "outputs": [],
   "source": [
    "score = [1,2,3,1,3,1,3,2,3,4,4,3,2,4,3,4,5,3,5,3,5,4,5,6,6,5,4,6,5,1,2,3,4,4,5,6,6,2,3,4,5,6,7,7,3,4,5,6,7,8,8,7,6,4,7,5,8]\n",
    "beats = [2.6,8,2.6,8,4,4,2,2.6,8,8,8,8,8,1,\n",
    "         2.6,8,2.6,8,4,4,2,2.6,8,8,8,8,8,1,\n",
    "         2.6,8,8,8,8,8,1,2.6,8,8,8,8,8,1,\n",
    "         2.6,8,8,8,8,8,1.6,8,8,4,4,4,4,4,1]\n",
    "\n",
    "melody = []\n",
    "\n",
    "beats_per_minute = 240\n",
    "beat_length = 60 / beats_per_minute\n",
    "\n",
    "for note,rhythm in zip(score,beats):\n",
    "    note_length = (beat_length * 4 / rhythm)\n",
    "    melody.extend(make_note(a_major[note-1], note_length))\n",
    "    melody.extend(make_rest(0.02))\n",
    "\n",
    "Audio(data=melody, rate=fs)"
   ]
  },
  {
   "cell_type": "markdown",
   "id": "df2de243",
   "metadata": {},
   "source": [
    "`2.6`, `1.6`, these aren't intuitive ways to write a rhythm. What if instead we could use something like `4.` to represent a doted note.\n",
    "\n",
    "`note_length = make_rhythm(rhythm='2.', bpm=120)`"
   ]
  },
  {
   "cell_type": "code",
   "execution_count": null,
   "id": "d63d21f8",
   "metadata": {},
   "outputs": [],
   "source": [
    "def make_rhythm(rhythm, bpm=120):\n",
    "    is_dotted = rhythm.endswith('.')\n",
    "    rhythm_int = int(rhythm[:-1]) if is_dotted else int(rhythm)\n",
    "    beat_length = 60 / beats_per_minute\n",
    "    note_length = (beat_length * 4 / rhythm_int)\n",
    "    \n",
    "    if is_dotted:\n",
    "        note_length *= 1.5\n",
    "    \n",
    "    return note_length"
   ]
  },
  {
   "cell_type": "code",
   "execution_count": null,
   "id": "dcc0b2b5",
   "metadata": {},
   "outputs": [],
   "source": [
    "score = [1,2,3,1,3,1,3,2,3,4,4,3,2,4,3,4,5,3,5,3,5,4,5,6,6,5,4,6,5,1,2,3,4,4,5,6,6,2,3,4,5,6,7,7,3,4,5,6,7,8,8,7,6,4,7,5,8]\n",
    "beats = ['4.','8','4.','8','4','4','2','4.','8','8','8','8','8','1',\n",
    "         '4.','8','4.','8','4','4','2','4.','8','8','8','8','8','1',\n",
    "         '4.','8','8','8','8','8','1','4.','8','8','8','8','8','1',\n",
    "         '4.','8','8','8','8','8','2.','8','8','4','4','4','4','4','1']\n",
    "         \n",
    "melody = []\n",
    "\n",
    "beats_per_minute = 120\n",
    "\n",
    "for note,rhythm in zip(score,beats):\n",
    "    note_length = make_rhythm(rhythm, bpm=beats_per_minute)\n",
    "    melody.extend(make_note(a_major[note-1], note_length, shape='triangle'))\n",
    "    melody.extend(make_rest(0.02))\n",
    "\n",
    "Audio(data=melody, rate=fs)"
   ]
  },
  {
   "cell_type": "markdown",
   "id": "64dc811a",
   "metadata": {},
   "source": [
    "Does not sound quite right as the scale actually has some accidentals.\n",
    "Apply the same logic, add a `#` or a `b` to make an accidental.\n"
   ]
  },
  {
   "cell_type": "code",
   "execution_count": null,
   "id": "3d3c09c5",
   "metadata": {},
   "outputs": [],
   "source": [
    "def make_accidental(freq,accidental='#'):    \n",
    "    return 2 ** ((1 if accidental == '#' else -1) / 12.0) * freq;\n",
    "\n",
    "def make_pitch(note_num):\n",
    "    \n",
    "    \n",
    "    major_scale = [261.63,293.66,329.63,349.23,392,440,493.88,523.25]\n",
    "    is_accidental = note_num.endswith('#') or note_num.endswith('b')\n",
    "\n",
    "    note_int = int(note_num[0])-1\n",
    "    note_freq = major_scale[note_int]\n",
    "    \n",
    "    if is_accidental:\n",
    "        note_freq = make_accidental(note_freq,note_num[-1])\n",
    "        \n",
    "    return note_freq"
   ]
  },
  {
   "cell_type": "code",
   "execution_count": null,
   "id": "6d6ca1f2",
   "metadata": {
    "scrolled": true
   },
   "outputs": [],
   "source": [
    "score = ['1','2','3','1','3','1','3','2','3','4','4','3','2','4',\n",
    "         '3','4','5','3','5','3','5','4','5','6','6','5','4','6',\n",
    "         '5','1','2','3','4','5','6','6','2','3','4#','5','6','7',\n",
    "         '7','3','4#','5#','6','7','8','7','7b','6','4','7','5','8']\n",
    "beats = ['4.','8','4.','8','4','4','2','4.','8','8','8','8','8','1',\n",
    "         '4.','8','4.','8','4','4','2','4.','8','8','8','8','8','1',\n",
    "         '4.','8','8','8','8','8','1','4.','8','8','8','8','8','1',\n",
    "         '4.','8','8','8','8','8','2.','8','8','4','4','4','4','4','1']\n",
    "         \n",
    "melody = []\n",
    "\n",
    "beats_per_minute = 180\n",
    "\n",
    "for note,rhythm in zip(score,beats):\n",
    "    note_length = make_rhythm(rhythm, bpm=beats_per_minute)\n",
    "    melody.extend(make_note(make_pitch(note), note_length, shape='triangle'))\n",
    "    melody.extend(make_rest(0.02))\n",
    "\n",
    "Audio(data=melody, rate=fs)"
   ]
  },
  {
   "cell_type": "markdown",
   "id": "ecf4b4ad",
   "metadata": {},
   "source": [
    "## Fade in"
   ]
  },
  {
   "cell_type": "markdown",
   "id": "303a0ef8",
   "metadata": {},
   "source": [
    "## Fade Out"
   ]
  },
  {
   "cell_type": "markdown",
   "id": "17806466",
   "metadata": {},
   "source": [
    "## ADSR"
   ]
  },
  {
   "cell_type": "markdown",
   "id": "7b543c63",
   "metadata": {},
   "source": [
    "## Helper Functions"
   ]
  },
  {
   "cell_type": "markdown",
   "id": "00516c1f",
   "metadata": {},
   "source": [
    "## Piano Roll"
   ]
  },
  {
   "cell_type": "markdown",
   "id": "51848298",
   "metadata": {},
   "source": [
    "## Signal Processing"
   ]
  },
  {
   "cell_type": "markdown",
   "id": "d7a11c0a",
   "metadata": {},
   "source": [
    "## Modulation"
   ]
  },
  {
   "cell_type": "markdown",
   "id": "a43eafcf",
   "metadata": {},
   "source": [
    "### Amplitude Modulation"
   ]
  },
  {
   "cell_type": "markdown",
   "id": "a79d8a1a",
   "metadata": {},
   "source": [
    "### Frequency Modulation"
   ]
  },
  {
   "cell_type": "markdown",
   "id": "d9637fac",
   "metadata": {},
   "source": [
    "## Filters"
   ]
  }
 ],
 "metadata": {
  "kernelspec": {
   "display_name": "Python 3 (ipykernel)",
   "language": "python",
   "name": "python3"
  },
  "language_info": {
   "codemirror_mode": {
    "name": "ipython",
    "version": 3
   },
   "file_extension": ".py",
   "mimetype": "text/x-python",
   "name": "python",
   "nbconvert_exporter": "python",
   "pygments_lexer": "ipython3",
   "version": "3.11.7"
  }
 },
 "nbformat": 4,
 "nbformat_minor": 5
}
