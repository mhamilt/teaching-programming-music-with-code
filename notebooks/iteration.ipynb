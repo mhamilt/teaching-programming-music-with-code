{
 "cells": [
  {
   "cell_type": "markdown",
   "id": "b261b6be",
   "metadata": {},
   "source": [
    "# Music and iteration\n",
    "\n",
    "Part of the power of computer programming is telling a computer to do the same instructions over and over, but changing something each time. This is the power of iteration, which typically comes in two flavours\n",
    "\n",
    "1. `for` loop: iterate over a finite collection of things or until a condition is met\n",
    "2. `while` loop: do something until a condition is met\n",
    "\n",
    "\n",
    "For our purposes we are going to mainly look at the `for` loop.\n",
    "\n",
    "We can demonstrate the utility of `for` in two dimensions of music harmony and rhythm.\n",
    "\n"
   ]
  },
  {
   "cell_type": "markdown",
   "id": "7a2965ab",
   "metadata": {},
   "source": [
    "## Setup\n",
    "\n",
    "Lets begin by gathering the materials we will need. Some maths functions and a way to quickly listen to audio"
   ]
  },
  {
   "cell_type": "code",
   "execution_count": null,
   "id": "b186bbfe",
   "metadata": {},
   "outputs": [],
   "source": [
    "from math import sin, pi\n",
    "from IPython.display import Audio\n"
   ]
  },
  {
   "cell_type": "markdown",
   "id": "fded44cb",
   "metadata": {},
   "source": [
    "## Iteration and time\n",
    "\n",
    "Let say we wanted to make a sine wav we will need first our frequency $f_0$, our sampling rate, our duration"
   ]
  },
  {
   "cell_type": "code",
   "execution_count": null,
   "id": "f99d7d64",
   "metadata": {},
   "outputs": [],
   "source": [
    "f0 = 440.0     # Fundamental frequency\n",
    "duration = 1.0 # in seconds\n",
    "fs = 44100.0   # Sampling Rate \n",
    "\n"
   ]
  },
  {
   "cell_type": "markdown",
   "id": "5a9fe147",
   "metadata": {},
   "source": [
    "We also then need to figure out how much we need to change angle of the wave for it to be the correct frequency"
   ]
  },
  {
   "cell_type": "code",
   "execution_count": null,
   "id": "4c96453a",
   "metadata": {},
   "outputs": [],
   "source": [
    "delta = 2.0 * pi * f0 / fs # how much does the phase change between samples"
   ]
  },
  {
   "cell_type": "markdown",
   "id": "3826a1a2",
   "metadata": {},
   "source": [
    "A digital sine wav is made up pf many samples, it would be maddening if we had to write"
   ]
  },
  {
   "cell_type": "code",
   "execution_count": null,
   "id": "9e879fb6",
   "metadata": {},
   "outputs": [],
   "source": [
    "sine_wave_sample_0  = sin(delta * 0)\n",
    "sine_wave_sample_1  = sin(delta * 1)\n",
    "sine_wave_sample_2  = sin(delta * 2)\n",
    "sine_wave_sample_3  = sin(delta * 3)\n",
    "sine_wave_sample_4  = sin(delta * 4)\n",
    "sine_wave_sample_5  = sin(delta * 5)\n",
    "sine_wave_sample_6  = sin(delta * 6)\n",
    "sine_wave_sample_7  = sin(delta * 7)\n",
    "sine_wave_sample_8  = sin(delta * 8)\n",
    "sine_wave_sample_9  = sin(delta * 9)\n",
    "sine_wave_sample_10 = sin(delta * 10)"
   ]
  },
  {
   "cell_type": "markdown",
   "id": "908f5d58",
   "metadata": {},
   "source": [
    "we'd have to do that another few thousand times before we had eough samples to listen to.\n",
    "\n",
    "Instead we can use a `for` loop make the list of samples for us.\n",
    "\n",
    "First we figure out how many samples we need. Which just our duration $\\times$ our sample rate.\n",
    "\n",
    "It can only be an integer as we can't have a fraction of a sample"
   ]
  },
  {
   "cell_type": "code",
   "execution_count": null,
   "id": "8ed4c24f",
   "metadata": {},
   "outputs": [],
   "source": [
    "num_samples = int(duration*fs)"
   ]
  },
  {
   "cell_type": "markdown",
   "id": "deb2942b",
   "metadata": {},
   "source": [
    "Next we create a list to which we can add our samples"
   ]
  },
  {
   "cell_type": "code",
   "execution_count": null,
   "id": "93eaf093",
   "metadata": {},
   "outputs": [],
   "source": [
    "sine_wave = []"
   ]
  },
  {
   "cell_type": "markdown",
   "id": "55018d8c",
   "metadata": {},
   "source": [
    "Then our `for` loop, which states thats an index, `i`, is going step through the numbers in a range of numbers between `0` and `num_samples`. That range is provided by the `range` function"
   ]
  },
  {
   "cell_type": "code",
   "execution_count": null,
   "id": "e080f42b",
   "metadata": {},
   "outputs": [],
   "source": [
    "for i in range(num_samples):\n",
    "    sine_wave.append([sin(delta * i)])\n"
   ]
  },
  {
   "cell_type": "markdown",
   "id": "9bc0031d",
   "metadata": {},
   "source": [
    "We can actually write this in a slight more nicer way by making the list directly.\n",
    "\n",
    "If we wanted a list of numbers from `0` to `10` we could write"
   ]
  },
  {
   "cell_type": "code",
   "execution_count": null,
   "id": "050cbf20",
   "metadata": {},
   "outputs": [],
   "source": [
    "[number for number in range(10)]"
   ]
  },
  {
   "cell_type": "markdown",
   "id": "f57a4c07",
   "metadata": {},
   "source": [
    "The same applies to our sine wave as we could jiust as well write"
   ]
  },
  {
   "cell_type": "code",
   "execution_count": null,
   "id": "cc6e0e4c",
   "metadata": {},
   "outputs": [],
   "source": [
    "sine_wave = [sin(delta * i) for i in range(num_samples)]\n",
    "\n",
    "Audio(data=sine_wave, rate=fs)"
   ]
  },
  {
   "cell_type": "markdown",
   "id": "342f087e",
   "metadata": {},
   "source": [
    "## Iteration and harmonics\n",
    "\n",
    "now maybe we want to play a fifth interval above that, or $\\frac{3}{2}f_0$ for our fundamental frequency $f_0$"
   ]
  },
  {
   "cell_type": "code",
   "execution_count": null,
   "id": "31fd431e",
   "metadata": {},
   "outputs": [],
   "source": [
    "f1 = 3/2 * f0\n",
    "delta = 2.0 * pi * f1 / fs # how much does the phase change between samples\n",
    "sine_wave_1 = [sin(delta * i) for i in range(int(duration*fs))]\n",
    "Audio(data=sine_wave_1, rate=fs)"
   ]
  },
  {
   "cell_type": "markdown",
   "id": "1fb61a55",
   "metadata": {},
   "source": [
    "we needed to write slightly less, but we still need to add the two tones together. We can use iteration for that as well. We can zip them together with the `zip` function"
   ]
  },
  {
   "cell_type": "code",
   "execution_count": null,
   "id": "0f741d8b",
   "metadata": {},
   "outputs": [],
   "source": [
    "both_sine_waves = [samp1+samp2 for samp1,samp2 in zip(sine_wave,sine_wave_1)]\n",
    "\n",
    "Audio(data=both_sine_waves, rate=fs)"
   ]
  },
  {
   "cell_type": "markdown",
   "id": "d450426c",
   "metadata": {},
   "source": [
    "But what if we want a third sine wave? or a fourth? twenty? All of sudden this approach doesn't scale very well.\n",
    "\n",
    "That's where we can add another `for` loop."
   ]
  },
  {
   "cell_type": "code",
   "execution_count": null,
   "id": "58800e16",
   "metadata": {},
   "outputs": [],
   "source": [
    "sum_of_sines = []\n",
    "\n",
    "num_harmonics = 10\n",
    "\n",
    "for i in range(num_samples):\n",
    "    sum_of_sines.append(0.0)\n",
    "    for k in range(num_harmonics):\n",
    "        delta = 2.0 * pi * f0 * k / fs \n",
    "        sum_of_sines[i] += sin(delta * i)\n",
    "    "
   ]
  },
  {
   "cell_type": "markdown",
   "id": "dd9a5823",
   "metadata": {},
   "source": [
    "That is probably pretty loud, but we can check"
   ]
  },
  {
   "cell_type": "code",
   "execution_count": null,
   "id": "3e7e2a25",
   "metadata": {},
   "outputs": [],
   "source": [
    "max(sum_of_sines)"
   ]
  },
  {
   "cell_type": "markdown",
   "id": "eef97326",
   "metadata": {},
   "source": [
    "That is far too loud, so next we normalise the audio so it is in the range `-1.0` > `+1.0`"
   ]
  },
  {
   "cell_type": "code",
   "execution_count": null,
   "id": "a64a964f",
   "metadata": {},
   "outputs": [],
   "source": [
    "maximum = max(sum_of_sines)\n",
    "\n",
    "for i in range(num_samples):\n",
    "    sum_of_sines[i] *= 1.0 / maximum\n",
    "    \n",
    "Audio(data=sum_of_sines, rate=fs)"
   ]
  },
  {
   "cell_type": "markdown",
   "id": "6c6fbd7f",
   "metadata": {},
   "source": [
    "Scaling the amplitude of the harmonic inverse to its frequency should result in something a little more pleasant.\n",
    "\n",
    "Adding in the line\n",
    "\n",
    "```py\n",
    "gain = 1.0 / (f0 * k)\n",
    "```"
   ]
  },
  {
   "cell_type": "code",
   "execution_count": null,
   "id": "548601d3",
   "metadata": {},
   "outputs": [],
   "source": [
    "sum_of_sines = []\n",
    "\n",
    "num_harmonics = 10\n",
    "\n",
    "for i in range(num_samples):\n",
    "    sum_of_sines.append(0.0)\n",
    "    for k in range(num_harmonics):\n",
    "        gain = 1.0 / (f0 * (k+1))\n",
    "        delta = 2.0 * pi * f0 * k / fs \n",
    "        sum_of_sines[i] += gain*sin(delta * i)\n",
    "        \n",
    "maximum = max(sum_of_sines)\n",
    "\n",
    "for i in range(num_samples):\n",
    "    sum_of_sines[i] *= 1.0 / maximum\n",
    "    \n",
    "Audio(data=sum_of_sines, rate=fs)"
   ]
  },
  {
   "cell_type": "markdown",
   "id": "de62cbec",
   "metadata": {},
   "source": [
    "The `range` also allows for the starting index and step size to be changed, e.g. `range(0,10,2)` instructs to start on `0`, go up to (but not including) `10` and increase in steps of `2`\n",
    "\n",
    "By just changing the number and step of the harmonics, we can change the timbre of our sound\n",
    "\n",
    "For a square wave we would only want the odd numbers"
   ]
  },
  {
   "cell_type": "code",
   "execution_count": null,
   "id": "9bbf8de7",
   "metadata": {},
   "outputs": [],
   "source": [
    "sum_of_sines = []\n",
    "\n",
    "num_harmonics = 10\n",
    "\n",
    "for i in range(num_samples):\n",
    "    sum_of_sines.append(0.0)\n",
    "    for k in range(1,num_harmonics,2):\n",
    "        gain = 1.0 / (f0 * (k+1))\n",
    "        delta = 2.0 * pi * f0 * k / fs \n",
    "        sum_of_sines[i] += gain*sin(delta * i)\n",
    "        \n",
    "maximum = max(sum_of_sines)\n",
    "\n",
    "for i in range(num_samples):\n",
    "    sum_of_sines[i] *= 1.0 / maximum\n",
    "    \n",
    "Audio(data=sum_of_sines, rate=fs)"
   ]
  },
  {
   "cell_type": "markdown",
   "id": "aa0657c1",
   "metadata": {},
   "source": [
    "Or a triangle wave\n",
    "\n",
    "$$\\frac{8}{\\pi^2}\\sum_{n=0}^{N-1} \\frac{{(-1)}^n}{(2n + 1)^2} \\sin(2 \\pi f_0 (2n + 1) t)$$\n",
    "\n",
    "\n",
    "where the gain is: $\\frac{{(-1)}^n}{(2n + 1)^2}$\n",
    "\n",
    "and the harmonics are at frequencies: $f_0 (2n + 1)$"
   ]
  },
  {
   "cell_type": "code",
   "execution_count": null,
   "id": "5ece2c5f",
   "metadata": {},
   "outputs": [],
   "source": [
    "sum_of_sines = []\n",
    "\n",
    "num_harmonics = 10\n",
    "\n",
    "for i in range(num_samples):\n",
    "    sum_of_sines.append(0.0)\n",
    "    for n in range(0,num_harmonics):\n",
    "        gain = ((-1.0)**(n)) / ((2*n+1)**2)\n",
    "        delta = 2.0 * pi * f0 * (2*n+1) / fs \n",
    "        sum_of_sines[i] += gain*sin(delta * i)\n",
    "        \n",
    "maximum = max(sum_of_sines)\n",
    "\n",
    "for i in range(num_samples):\n",
    "    sum_of_sines[i] *= 1.0 / maximum\n",
    "    \n",
    "Audio(data=sum_of_sines, rate=fs)"
   ]
  },
  {
   "cell_type": "markdown",
   "id": "a69088b7",
   "metadata": {},
   "source": [
    "## Iteration in Rhythm\n",
    "\n",
    "We have seen how we can use a `for` loop can stack frequencies, lets see how we use it for rhythm\n",
    "\n",
    "\n"
   ]
  },
  {
   "cell_type": "markdown",
   "id": "5e3f12c7",
   "metadata": {},
   "source": [
    "Remember our `note_length_samples` is a number of samples. We can't have fractional samples, so it needs to be an `int`"
   ]
  },
  {
   "cell_type": "code",
   "execution_count": null,
   "id": "9eb1a9d6",
   "metadata": {},
   "outputs": [],
   "source": [
    "melody = []\n",
    "\n",
    "sampling_rate = 44100\n",
    "beats_per_minute = 120\n",
    "beats = 8\n",
    "beat_length = 60 / beats_per_minute\n",
    "note_length_seconds = beat_length / 2\n",
    "note_length_samples = int(note_length_seconds * sampling_rate)\n",
    "\n",
    "f0 = 440\n",
    "delta = 2.0 * pi * f0 / sampling_rate\n",
    "\n",
    "\n",
    "note = [sin(delta * i) for i in range(note_length_samples)]\n",
    "rest = [0.0 for x in range(note_length_samples)]\n",
    "\n",
    "\n",
    "for i in range(beats):\n",
    "        melody.extend(note)\n",
    "        melody.extend(rest)\n",
    "        \n",
    "Audio(data=melody, rate=sampling_rate)"
   ]
  },
  {
   "cell_type": "code",
   "execution_count": null,
   "id": "736f9b74",
   "metadata": {},
   "outputs": [],
   "source": [
    "melody = []\n",
    "\n",
    "sampling_rate = 44100\n",
    "beats_per_minute = 120\n",
    "beats = 8\n",
    "beat_length = 60 / beats_per_minute\n",
    "note_length_seconds = beat_length / 2\n",
    "note_length_samples = int(note_length_seconds * sampling_rate)\n",
    "\n",
    "f0 = 440\n",
    "\n",
    "rest = [0.0 for x in range(note_length_samples)]\n",
    "\n",
    "\n",
    "a_major = [440.0,494.0,554.0,622.0,659.0,740.0,831.0,880.0]\n",
    "\n",
    "notes = []\n",
    "\n",
    "for i in range(len(a_major)):\n",
    "    delta = 2.0 * pi * a_major[i] / sampling_rate\n",
    "    note = [sin(delta * i) for i in range(note_length_samples)]\n",
    "    notes.append(note)\n",
    "\n"
   ]
  },
  {
   "cell_type": "markdown",
   "id": "8422d230",
   "metadata": {},
   "source": [
    "seems quite messy, maybe rather than using an index, we can iterate over the frequencies directly"
   ]
  },
  {
   "cell_type": "code",
   "execution_count": null,
   "id": "571b5016",
   "metadata": {},
   "outputs": [],
   "source": [
    "notes = []\n",
    "\n",
    "for freq in a_major:\n",
    "    delta = 2.0 * pi * freq / sampling_rate\n",
    "    note = [sin(delta * i) for i in range(note_length_samples)]\n",
    "    notes.append(note)\n",
    "\n",
    "\n"
   ]
  },
  {
   "cell_type": "code",
   "execution_count": null,
   "id": "454a90d3",
   "metadata": {},
   "outputs": [],
   "source": [
    "for i in range(beats):\n",
    "        melody.extend(notes[i])\n",
    "        melody.extend(rest)\n",
    "        \n",
    "Audio(data=melody, rate=sampling_rate)"
   ]
  },
  {
   "cell_type": "code",
   "execution_count": null,
   "id": "3fa62b1b",
   "metadata": {},
   "outputs": [],
   "source": [
    "import random\n"
   ]
  },
  {
   "cell_type": "code",
   "execution_count": null,
   "id": "17409d2a",
   "metadata": {},
   "outputs": [],
   "source": [
    "sequence = [[1 if random.random() < 0.15 else 0 for note in range(16)] for beat in range(16)]\n"
   ]
  },
  {
   "cell_type": "code",
   "execution_count": null,
   "id": "7cf8ae55",
   "metadata": {},
   "outputs": [],
   "source": [
    "def midi_number_to_freq(midiNoteNumber):\n",
    "    return 2 ** ((midiNoteNumber - 69.0) / 12.0) * 440.0;\n"
   ]
  },
  {
   "cell_type": "code",
   "execution_count": null,
   "id": "15f5e8f1",
   "metadata": {},
   "outputs": [],
   "source": [
    "midi_notes = [96, 93, 91, 89, 86, 84, 81, 79, 77, 74, 72, 69, 67, 65, 62, 60]\n",
    "note_freqs = [midi_number_to_freq(midi_note) for midi_note in midi_notes]\n",
    "\n",
    "notes = []\n",
    "\n",
    "for freq in note_freqs:\n",
    "    delta = 2.0 * pi * freq / sampling_rate\n",
    "    note = [sin(delta * i) for i in range(note_length_samples)]\n",
    "    notes.append(note)"
   ]
  },
  {
   "cell_type": "code",
   "execution_count": null,
   "id": "64ea9e59",
   "metadata": {
    "scrolled": false
   },
   "outputs": [],
   "source": [
    "melody = []\n",
    "\n",
    "beats_per_minute = 120\n",
    "beat_length = 60 / beats_per_minute\n",
    "note_length_seconds = beat_length / 16\n",
    "note_length_samples = int(note_length_seconds * sampling_rate)\n",
    "rest_length_seconds = note_length_seconds*3\n",
    "note_length_samples = int(rest_length_seconds * sampling_rate)\n",
    "\n",
    "rest = [0.0 for x in range(note_length_samples)]\n",
    "\n",
    "for beat in sequence:\n",
    "    chord = [0.0 for x in range(note_length_samples)]\n",
    "    for note_num,should_play_note in enumerate(beat):\n",
    "        if should_play_note:\n",
    "            chord = [x + y for x, y in zip(chord, notes[note_num])]\n",
    "    melody.extend(chord)\n",
    "    melody.extend(rest)\n",
    "\n",
    "                \n",
    "Audio(data=melody, rate=sampling_rate)"
   ]
  },
  {
   "cell_type": "markdown",
   "id": "31795ebe",
   "metadata": {},
   "source": [
    "Remember: Repetion legitimises "
   ]
  },
  {
   "cell_type": "code",
   "execution_count": null,
   "id": "2e02c7fb",
   "metadata": {},
   "outputs": [],
   "source": [
    "melody = []\n",
    "number_of_cycles = 4\n",
    "\n",
    "\n",
    "for i in range(number_of_cycles):\n",
    "    for beat in sequence:\n",
    "        chord = [0.0 for x in range(note_length_samples)]\n",
    "        for note_num,should_play_note in enumerate(beat):\n",
    "            if should_play_note:\n",
    "                chord = [x + y for x, y in zip(chord, notes[note_num])]\n",
    "        melody.extend(chord)\n",
    "        melody.extend(rest)\n",
    "        \n",
    "Audio(data=melody, rate=sampling_rate)"
   ]
  },
  {
   "cell_type": "code",
   "execution_count": null,
   "id": "08f26a40",
   "metadata": {},
   "outputs": [],
   "source": [
    "melody = []\n",
    "number_of_cycles = 4\n",
    "number_of_sequences = 4\n",
    "\n",
    "for j in range(number_of_sequences):\n",
    "    for i in range(number_of_cycles):\n",
    "        for beat in sequence:\n",
    "            chord = [0.0 for x in range(note_length_samples)]\n",
    "            for note_num,should_play_note in enumerate(beat):\n",
    "                if should_play_note:\n",
    "                    chord = [x + y for x, y in zip(chord, notes[note_num])]\n",
    "            melody.extend(chord)\n",
    "            melody.extend(rest)\n",
    "            \n",
    "    sequence = [[1 if random.random() < 0.15 else 0 for note in range(16)] for beat in range(16)]\n",
    "        \n",
    "\n",
    "Audio(data=melody, rate=sampling_rate)"
   ]
  },
  {
   "cell_type": "markdown",
   "id": "c879078c",
   "metadata": {},
   "source": [
    "We repeat sequences in a cycles, but we never repeat the section\n",
    "\n",
    "and repetition legitimises"
   ]
  },
  {
   "cell_type": "code",
   "execution_count": null,
   "id": "5fad7395",
   "metadata": {},
   "outputs": [],
   "source": [
    "\n",
    "sequences = []\n",
    "number_of_cycles = 4\n",
    "number_of_sequences = 4\n",
    "\n",
    "for i in range(number_of_sequences):\n",
    "    sequence = [[random.random() < 0.05 for note in range(16)] for beat in range(16)]\n",
    "    sequences.append(sequence)\n",
    "\n",
    "number_of_repeats = 2\n",
    "\n",
    "melody = []\n",
    "\n",
    "for k in range(number_of_repeats):\n",
    "    for sequence in sequences:\n",
    "        for i in range(number_of_cycles):\n",
    "            for beat in sequence:\n",
    "                chord = [0.0 for x in range(note_length_samples)]\n",
    "                for note_num,should_play_note in enumerate(beat):\n",
    "                    if should_play_note:\n",
    "                        chord = [x + y for x, y in zip(chord, notes[note_num])]\n",
    "                melody.extend(chord)\n",
    "                melody.extend(rest)\n",
    "            \n",
    "Audio(data=melody, rate=sampling_rate)"
   ]
  }
 ],
 "metadata": {
  "kernelspec": {
   "display_name": "Python 3 (ipykernel)",
   "language": "python",
   "name": "python3"
  },
  "language_info": {
   "codemirror_mode": {
    "name": "ipython",
    "version": 3
   },
   "file_extension": ".py",
   "mimetype": "text/x-python",
   "name": "python",
   "nbconvert_exporter": "python",
   "pygments_lexer": "ipython3",
   "version": "3.11.7"
  }
 },
 "nbformat": 4,
 "nbformat_minor": 5
}
