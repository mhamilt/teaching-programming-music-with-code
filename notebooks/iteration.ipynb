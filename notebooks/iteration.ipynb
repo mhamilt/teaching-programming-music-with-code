{
 "cells": [
  {
   "cell_type": "markdown",
   "id": "e10482c6",
   "metadata": {},
   "source": [
    "# Music and iteration\n",
    "\n",
    "Part of the power of computer programming is telling a computer to do the same instructions over and over, but changing something each time. This is the power of iteration, which typically comes in two flavours\n",
    "\n",
    "1. `for` loop: iterate over a finite collection of things or until a condition is met\n",
    "2. `while` loop: do something until a condition is met\n",
    "\n",
    "\n",
    "For our purposes we are going to mainly look at the `for` loop.\n",
    "\n",
    "We can demonstrate the utility of `for` in two dimensions of music harmony and rhythm.\n",
    "\n"
   ]
  },
  {
   "cell_type": "markdown",
   "id": "10437f7b",
   "metadata": {},
   "source": [
    "## Setup\n",
    "\n",
    "Lets begin by gathering the materials we will need. Some maths functions and a way to quickly listen to audio"
   ]
  },
  {
   "cell_type": "code",
   "execution_count": null,
   "id": "1987cff5",
   "metadata": {},
   "outputs": [],
   "source": [
    "from math import sin, pi\n",
    "from IPython.display import Audio\n"
   ]
  },
  {
   "cell_type": "markdown",
   "id": "db121f90",
   "metadata": {},
   "source": [
    "## Iteration and time\n",
    "\n",
    "Let say we wanted to make a sine wav we will need first our frequency $f_0$, our sampling rate, our duration"
   ]
  },
  {
   "cell_type": "code",
   "execution_count": null,
   "id": "803f5db3",
   "metadata": {},
   "outputs": [],
   "source": [
    "f0 = 440.0     # Fundamental frequency\n",
    "duration = 1.0 # in seconds\n",
    "fs = 44100.0   # Sampling Rate \n",
    "\n"
   ]
  },
  {
   "cell_type": "markdown",
   "id": "a55e4abb",
   "metadata": {},
   "source": [
    "We also then need to figure out how much we need to change angle of the wave for it to be the correct frequency"
   ]
  },
  {
   "cell_type": "code",
   "execution_count": null,
   "id": "a1ae08d3",
   "metadata": {},
   "outputs": [],
   "source": [
    "delta = 2.0 * pi * f0 / fs # how much does the phase change between samples"
   ]
  },
  {
   "cell_type": "markdown",
   "id": "37ad2a52",
   "metadata": {},
   "source": [
    "A digital sine wav is made up pf many samples, it would be maddening if we had to write"
   ]
  },
  {
   "cell_type": "code",
   "execution_count": null,
   "id": "c4858665",
   "metadata": {},
   "outputs": [],
   "source": [
    "sine_wave_sample_0  = sin(delta * 0)\n",
    "sine_wave_sample_1  = sin(delta * 1)\n",
    "sine_wave_sample_2  = sin(delta * 2)\n",
    "sine_wave_sample_3  = sin(delta * 3)\n",
    "sine_wave_sample_4  = sin(delta * 4)\n",
    "sine_wave_sample_5  = sin(delta * 5)\n",
    "sine_wave_sample_6  = sin(delta * 6)\n",
    "sine_wave_sample_7  = sin(delta * 7)\n",
    "sine_wave_sample_8  = sin(delta * 8)\n",
    "sine_wave_sample_9  = sin(delta * 9)\n",
    "sine_wave_sample_10 = sin(delta * 10)"
   ]
  },
  {
   "cell_type": "markdown",
   "id": "ae85b8c2",
   "metadata": {},
   "source": [
    "we'd have to do that another few thousand times before we had eough samples to listen to.\n",
    "\n",
    "Instead we can use a `for` loop make the list of samples for us.\n",
    "\n",
    "First we figure out how many samples we need. Which just our duration $\\times$ our sample rate.\n",
    "\n",
    "It can only be an integer as we can't have a fraction of a sample"
   ]
  },
  {
   "cell_type": "code",
   "execution_count": null,
   "id": "02157fb2",
   "metadata": {},
   "outputs": [],
   "source": [
    "num_samples = int(duration*fs)"
   ]
  },
  {
   "cell_type": "markdown",
   "id": "48bdfd56",
   "metadata": {},
   "source": [
    "Next we create a list to which we can add our samples"
   ]
  },
  {
   "cell_type": "code",
   "execution_count": null,
   "id": "311bead6",
   "metadata": {},
   "outputs": [],
   "source": [
    "sine_wave = []"
   ]
  },
  {
   "cell_type": "markdown",
   "id": "848139c8",
   "metadata": {},
   "source": [
    "Then our `for` loop, which states thats an index, `i`, is going step through the numbers in a range of numbers between `0` and `num_samples`. That range is provided by the `range` function"
   ]
  },
  {
   "cell_type": "code",
   "execution_count": null,
   "id": "923e3d6f",
   "metadata": {},
   "outputs": [],
   "source": [
    "for i in range(num_samples):\n",
    "    sine_wave.append([sin(delta * i)])\n"
   ]
  },
  {
   "cell_type": "markdown",
   "id": "c47e391c",
   "metadata": {},
   "source": [
    "We can actually write this in a slight more nicer way by making the list directly.\n",
    "\n",
    "If we wanted a list of numbers from `0` to `10` we could write"
   ]
  },
  {
   "cell_type": "code",
   "execution_count": null,
   "id": "a1ece8f5",
   "metadata": {},
   "outputs": [],
   "source": [
    "[number for number in range(10)]"
   ]
  },
  {
   "cell_type": "markdown",
   "id": "7f3dd58e",
   "metadata": {},
   "source": [
    "The same applies to our sine wave as we could jiust as well write"
   ]
  },
  {
   "cell_type": "code",
   "execution_count": null,
   "id": "9f875a58",
   "metadata": {},
   "outputs": [],
   "source": [
    "sine_wave = [sin(delta * i) for i in range(num_samples)]\n",
    "\n",
    "Audio(data=sine_wave, rate=fs)"
   ]
  },
  {
   "cell_type": "markdown",
   "id": "f25c8578",
   "metadata": {},
   "source": [
    "## Iteration and harmonics\n",
    "\n",
    "now maybe we want to play a fifth interval above that, or $\\frac{3}{2}f_0$ for our fundamental frequency $f_0$"
   ]
  },
  {
   "cell_type": "code",
   "execution_count": null,
   "id": "75b6396f",
   "metadata": {},
   "outputs": [],
   "source": [
    "f1 = 3/2 * f0\n",
    "delta = 2.0 * pi * f1 / fs # how much does the phase change between samples\n",
    "sine_wave_1 = [sin(delta * i) for i in range(int(duration*fs))]\n",
    "Audio(data=sine_wave_1, rate=fs)"
   ]
  },
  {
   "cell_type": "markdown",
   "id": "bcc53c90",
   "metadata": {},
   "source": [
    "we needed to write slightly less, but we still need to add the two tones together. We can use iteration for that as well. We can zip them together with the `zip` function"
   ]
  },
  {
   "cell_type": "code",
   "execution_count": null,
   "id": "aa580ec9",
   "metadata": {},
   "outputs": [],
   "source": [
    "both_sine_waves = [samp1+samp2 for samp1,samp2 in zip(sine_wave,sine_wave_1)]\n",
    "\n",
    "Audio(data=both_sine_waves, rate=fs)"
   ]
  },
  {
   "cell_type": "markdown",
   "id": "eccf51c1",
   "metadata": {},
   "source": [
    "But what if we want a third sine wave? or a fourth? twenty? All of sudden this approach doesn't scale very well.\n",
    "\n",
    "That's where we can add another `for` loop."
   ]
  },
  {
   "cell_type": "code",
   "execution_count": null,
   "id": "d221e27a",
   "metadata": {},
   "outputs": [],
   "source": [
    "harmonics = []\n",
    "\n",
    "num_harmonics = 10\n",
    "\n",
    "for i in range(num_samples):\n",
    "    harmonics.append(0.0)\n",
    "    for k in range(num_harmonics):\n",
    "        delta = 2.0 * pi * f0 * k / fs \n",
    "        harmonics[i] += sin(delta * i)\n",
    "    "
   ]
  },
  {
   "cell_type": "markdown",
   "id": "ad345e73",
   "metadata": {},
   "source": [
    "That is probably pretty loud, but we can check"
   ]
  },
  {
   "cell_type": "code",
   "execution_count": null,
   "id": "952e8b09",
   "metadata": {},
   "outputs": [],
   "source": [
    "max(harmonics)"
   ]
  },
  {
   "cell_type": "markdown",
   "id": "f0842c86",
   "metadata": {},
   "source": [
    "That is far too loud, so next we normalise the audio so it is in the range `-1.0` > `+1.0`"
   ]
  },
  {
   "cell_type": "code",
   "execution_count": null,
   "id": "4ce08165",
   "metadata": {},
   "outputs": [],
   "source": [
    "maximum = max(harmonics)\n",
    "\n",
    "for i in range(num_samples):\n",
    "    harmonics[i] *= 1.0 / maximum\n",
    "    \n",
    "Audio(data=harmonics, rate=fs)"
   ]
  },
  {
   "cell_type": "markdown",
   "id": "cbe8e22f",
   "metadata": {},
   "source": [
    "Scaling the amplitude of the harmonic inverse to its frequency should result in something a little more pleasant.\n",
    "\n",
    "Adding in the line\n",
    "\n",
    "```py\n",
    "gain = 1.0 / (f0 * k)\n",
    "```"
   ]
  },
  {
   "cell_type": "code",
   "execution_count": null,
   "id": "ad779466",
   "metadata": {},
   "outputs": [],
   "source": [
    "harmonics = []\n",
    "\n",
    "num_harmonics = 10\n",
    "\n",
    "for i in range(num_samples):\n",
    "    harmonics.append(0.0)\n",
    "    for k in range(num_harmonics):\n",
    "        gain = 1.0 / (f0 * (k+1))\n",
    "        delta = 2.0 * pi * f0 * k / fs \n",
    "        harmonics[i] += gain*sin(delta * i)\n",
    "        \n",
    "maximum = max(harmonics)\n",
    "\n",
    "for i in range(num_samples):\n",
    "    harmonics[i] *= 1.0 / maximum\n",
    "    \n",
    "Audio(data=harmonics, rate=fs)"
   ]
  },
  {
   "cell_type": "markdown",
   "id": "10541ffa",
   "metadata": {},
   "source": [
    "The `range` also allows for the starting index and step size to be changed, e.g. `range(0,10,2)` instructs to start on `0`, go up to (but not including) `10` and increase in steps of `2`\n",
    "\n",
    "By just changing the number and step of the harmonics, we can change the timbre of our sound\n",
    "\n",
    "For a square wave we would only want the odd numbers"
   ]
  },
  {
   "cell_type": "code",
   "execution_count": null,
   "id": "35fefa60",
   "metadata": {},
   "outputs": [],
   "source": [
    "harmonics = []\n",
    "\n",
    "num_harmonics = 10\n",
    "\n",
    "for i in range(num_samples):\n",
    "    harmonics.append(0.0)\n",
    "    for k in range(1,num_harmonics,2):\n",
    "        gain = 1.0 / (f0 * (k+1))\n",
    "        delta = 2.0 * pi * f0 * k / fs \n",
    "        harmonics[i] += gain*sin(delta * i)\n",
    "        \n",
    "maximum = max(harmonics)\n",
    "\n",
    "for i in range(num_samples):\n",
    "    harmonics[i] *= 1.0 / maximum\n",
    "    \n",
    "Audio(data=harmonics, rate=fs)"
   ]
  },
  {
   "cell_type": "markdown",
   "id": "901853bf",
   "metadata": {},
   "source": []
  }
 ],
 "metadata": {
  "kernelspec": {
   "display_name": "Python 3 (ipykernel)",
   "language": "python",
   "name": "python3"
  },
  "language_info": {
   "codemirror_mode": {
    "name": "ipython",
    "version": 3
   },
   "file_extension": ".py",
   "mimetype": "text/x-python",
   "name": "python",
   "nbconvert_exporter": "python",
   "pygments_lexer": "ipython3",
   "version": "3.11.7"
  }
 },
 "nbformat": 4,
 "nbformat_minor": 5
}
