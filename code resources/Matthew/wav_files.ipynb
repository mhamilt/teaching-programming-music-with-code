{
 "cells": [
  {
   "cell_type": "markdown",
   "id": "ea483d5b",
   "metadata": {},
   "source": [
    "# Wrangling Wav Files in Python\n",
    "\n",
    "This sections will cover how to deal with wav files in python.\n",
    "\n",
    "Modules exist already to do a lot of this work, but the prupose here is to demonstrate the principles of creating a wav file from scratch, regardless of the programming langauage used. \n",
    "\n",
    "It should also provide a guide for you as an instructor to create a lightweight utility for students which can be deployed easily which is useful when internet connections break or administraytive privleges don't allow for easy installation of additiona software.\n",
    "\n",
    "\n",
    "## Benefits to making your own library\n",
    "\n",
    "- agile: you can change it when you need to\n",
    "- reusable: it should be something simple enough you can pass it on to students to modify as they please.\n",
    "- flexible: it should be something you can drop into a project for when administrative priveleges, internet connections and a myriad of other IT disasters conspire against you to derail a lesson plan.\n",
    "\n",
    "## Jupyter Notebook Shortcuts\n",
    "\n",
    "| Function                   | macOS | Windows      |\n",
    "| --------------------------: | :----:  | :------------: |\n",
    "| Run Cells                  | ⌘+⏎   | CTRL+ENTER   |\n",
    "| Run Cells and Select Below | ⇧+⏎   | SHIFT+ENTER  |\n",
    "| Run Cells and Insert Below | ⌥+⏎   | ALT+ENTER    |\n",
    "| Toggle Line Numbers        | ⇧+L   | SHIFT+L      |\n",
    "| New Cell Above             | a     | a            |\n",
    "| New Cell Below             | b     | b            |\n",
    "| Delete Cell                | d d   | d d          |\n",
    "\n",
    "## Notebooks\n",
    "\n",
    "IPython widgets provide some nicer ways\n"
   ]
  },
  {
   "cell_type": "code",
   "execution_count": null,
   "id": "3de6018a",
   "metadata": {},
   "outputs": [],
   "source": [
    "import wave"
   ]
  },
  {
   "cell_type": "markdown",
   "id": "fc084110",
   "metadata": {},
   "source": [
    "as always, we import some functions and variables from the math library"
   ]
  },
  {
   "cell_type": "code",
   "execution_count": null,
   "id": "a25ba35d",
   "metadata": {},
   "outputs": [],
   "source": [
    "from math import sin, pi"
   ]
  },
  {
   "cell_type": "markdown",
   "id": "538a58fc",
   "metadata": {},
   "source": [
    "here we can create our sine wav to be written to a file"
   ]
  },
  {
   "cell_type": "code",
   "execution_count": null,
   "id": "0864f212",
   "metadata": {},
   "outputs": [],
   "source": [
    "fs = 44100.0   # Sampling Rate \n",
    "f0 = 440.0     # Fundamental frequency\n",
    "duration = 1.0 # in seconds\n",
    "\n",
    "delta = 2.0 * pi * f0 / fs # how much does the phase change between samples\n",
    "\n",
    "sine_wave = [sin(delta * i) for i in range(int(duration*fs))]"
   ]
  },
  {
   "cell_type": "markdown",
   "id": "b9f08c0e",
   "metadata": {},
   "source": [
    "write to a wav file"
   ]
  },
  {
   "cell_type": "code",
   "execution_count": null,
   "id": "135fb2fc",
   "metadata": {},
   "outputs": [],
   "source": [
    "file = wave.open('test.wav', 'wb')"
   ]
  },
  {
   "cell_type": "code",
   "execution_count": null,
   "id": "05a2b238",
   "metadata": {},
   "outputs": [],
   "source": [
    "file.setnchannels(1)\n",
    "file.setsampwidth(2)\n",
    "file.setframerate(int(fs))"
   ]
  },
  {
   "cell_type": "markdown",
   "id": "6a11af4a",
   "metadata": {},
   "source": [
    "We currently have a list of sample values and before we can write them to a file we need to turn them into a byte-string.\n",
    "\n",
    "This is typical data wrangling and will be an epected stage whenever writing data to a file.\n",
    "\n",
    "It can be a little dauntin for it to be one of the first things to introduce to students. Therefore, it is one of the benefits to abstracting the process away in a library. At first they can use the library you provide, but after a while you can invite them to open up the file and explore a little further.\n",
    "\n",
    "we nee to import the `struct` module which provides the ability to transform from one data type to another."
   ]
  },
  {
   "cell_type": "code",
   "execution_count": null,
   "id": "8795b6be",
   "metadata": {},
   "outputs": [],
   "source": [
    "import struct"
   ]
  },
  {
   "cell_type": "markdown",
   "id": "c4d6aa0c",
   "metadata": {},
   "source": [
    "## Wave library\n",
    "\n",
    "The [wave library](https://docs.python.org/3/library/wave.html) is a standard python library and can be used\n",
    "\n",
    "The wave library provides some handy functions to deal with parsing the header of a wav file so you don't have to."
   ]
  },
  {
   "cell_type": "code",
   "execution_count": null,
   "id": "f7f4c029",
   "metadata": {},
   "outputs": [],
   "source": [
    "bit_depth = 16\n",
    "max_amplitude = 2 ** (bit_depth - 1)\n",
    "byte_data = b''.join([struct.pack('<h', int(sample * max_amplitude)) for sample in sine_wave])"
   ]
  },
  {
   "cell_type": "code",
   "execution_count": null,
   "id": "21cdfffa",
   "metadata": {},
   "outputs": [],
   "source": [
    "filename = 'A440-Hz.wav'\n",
    "wave_file = wave.open(filename, 'wb')\n",
    "wave_file.setnchannels(1)  # mono\n",
    "wave_file.setsampwidth(bit_depth // 8)  # 16-bit depth i.e. 2 bytes\n",
    "wave_file.setframerate(int(fs))\n"
   ]
  },
  {
   "cell_type": "code",
   "execution_count": null,
   "id": "19885c11",
   "metadata": {},
   "outputs": [],
   "source": [
    "wave_file.writeframesraw(byte_data)"
   ]
  },
  {
   "cell_type": "code",
   "execution_count": null,
   "id": "1a0735a9",
   "metadata": {},
   "outputs": [],
   "source": [
    "wave_file.close()"
   ]
  },
  {
   "cell_type": "code",
   "execution_count": null,
   "id": "215ca5b9",
   "metadata": {},
   "outputs": [],
   "source": [
    "import IPython.display as ipd\n",
    "\n",
    "ipd.Audio(data=sine_wave, rate=fs)"
   ]
  },
  {
   "cell_type": "markdown",
   "id": "84f7dd13",
   "metadata": {},
   "source": [
    "# Reading a wav file\n",
    "\n",
    "Reading is a lot more simplistic than writing as a lot of decisions have been made for you.\n",
    "\n",
    "In general, to read a wav file you should expect to deal with three elements\n",
    "\n",
    "1. opening a file object in read mode\n",
    "2. reading byte data\n",
    "3. transforming byte data into floating point format\n",
    "\n",
    "For python it will be easiest to keep the audio sample format to a list of float type numbers.\n",
    "This is closest to what you will find in other programming languages.\n",
    "\n",
    "This assumes you are enforcing wav files with\n",
    "\n",
    "- 1 channel (mono)\n",
    "- 16-bit depth"
   ]
  },
  {
   "cell_type": "code",
   "execution_count": null,
   "id": "1b66d8ef",
   "metadata": {},
   "outputs": [],
   "source": [
    "import wave\n",
    "import struct\n",
    "\n",
    "wave_file = wave.open(filename, 'rb')\n",
    "p = wave_file.getparams()\n",
    "frames = wave_file.readframes(p.nframes)\n",
    "audio_samples = [sample[0] / max_amplitude for sample in struct.iter_unpack('<h',frames)]"
   ]
  },
  {
   "cell_type": "markdown",
   "id": "4ec0b2e4",
   "metadata": {},
   "source": [
    "The `struct` library's `unpack` functions always return a tuple, even if they are only 1 element long, the sort of arbitrary decision that can snipe some students into paralysis as they try to navigate. Another good reason to remove this kind of operation from view."
   ]
  },
  {
   "cell_type": "markdown",
   "id": "2e287b4b",
   "metadata": {},
   "source": [
    "## An example library\n",
    "\n",
    "Below is an example of a possible simple library you could provide.\n",
    "\n",
    "Modify based on what the fpucs of the lessons is. If it is teaching DSP, now might not be the time to punish students for getting the file extension wrong.\n",
    "\n",
    "If the focus _is_ to teach holistic programming skills, like how to read error, think perhaps of changing the contents of `if not filename.endswith('.wav'):` to throw a helpful error instead.\n",
    "\n",
    "The library is incredibly limited, but to an extent that is the point.\n",
    "\n",
    "Should only be a handful of lines, in this case under 30 lines.\n",
    "\n",
    "\n",
    "Treads some middle ground, enforce parameters like sample rate and bit depth.\n",
    "\n",
    "Don't be afraid to admit that you have pitched the library incorrectly.\n",
    "\n",
    "If students are tripping up at the same point, then you can be agile and alter the library accordingly.\n",
    "\n",
    "\n",
    "To import, all students should have to type is \n",
    "\n",
    "```py\n",
    "from wav_library import *\n",
    "```\n",
    "\n",
    "after which they will have access to the `write_wav_file` and `read_wav_file` functions\n"
   ]
  },
  {
   "cell_type": "code",
   "execution_count": null,
   "id": "2cf586e6",
   "metadata": {},
   "outputs": [],
   "source": [
    "# wav_library\n",
    "#\n",
    "# To import, all students should have to type is \n",
    "#\n",
    "# ```py\n",
    "# from wav_library import *\n",
    "# ```\n",
    "#\n",
    "# After which they will have access to the `write_wav_file` and `read_wav_file` functions\n",
    "#\n",
    "import struct\n",
    "import wave\n",
    "from math import sin, pi\n",
    "\n",
    "def write_wav_file(float_data, filename, nchannels=1, bit_depth=16, sample_rate=44100):\n",
    "    \n",
    "    normalisation = 1.0 / max(abs(float_data))\n",
    "    \n",
    "    float_data = [sample * normalisation for sample in float_data]\n",
    "    \n",
    "    if not filename.endswith('.wav'):\n",
    "        filename += '.wav'\n",
    "        \n",
    "    with wave.open(filename, 'wb') as wave_file:\n",
    "        wave_file.setnchannels(nchannels)\n",
    "        wave_file.setsampwidth(bit_depth // 8)\n",
    "        wave_file.setframerate(sample_rate)\n",
    "                \n",
    "        max_amplitude = 2 ** (bit_depth - 1)\n",
    "        byte_data = b''.join([struct.pack('<h', int(sample * max_amplitude)) for sample in float_data])\n",
    "        \n",
    "        wave_file.writeframesraw(byte_data)\n",
    "\n",
    "def read_wav_file(filename):\n",
    "\n",
    "    if not filename.endswith('.wav'):\n",
    "        filename += '.wav'\n",
    "        \n",
    "    with wave.open(filename, 'rb') as wave_file:\n",
    "        p = wave_file.getparams()\n",
    "        frames = wave_file.readframes(p.nframes)\n",
    "        audio_samples = [sample[0] / max_amplitude for sample in struct.iter_unpack('<h',frames)]\n",
    "        return audio_samples"
   ]
  },
  {
   "cell_type": "markdown",
   "id": "34aa00be",
   "metadata": {},
   "source": [
    "Limitations with this approach\n",
    "\n",
    "There are a lot of drawbacks and stumbling blocks which, rather than pretending they don't exist, are worth being aware of.\n",
    "\n",
    "- guessing file names could cause confusion down the line\n",
    "- this doens't support stereo\n",
    "- not transferrable to other languages, this makes heavy use of python list comprehensions. Givene the prevalence of C languages in audio programming, it may be better to follow a standard for loop structure\n",
    "- messy returns. The read function must return a lot of variables. This could be done as with an object-orientated approach, but there is tradeoff with the complexity that would be removed and put in its place.\n",
    "- this assumes parameters that would likely change, expecially if students wish to use there own samples.\n",
    "- the audio is always normalised using `normalisation = 1.0 / max(abs(float_data))`"
   ]
  },
  {
   "cell_type": "code",
   "execution_count": null,
   "id": "d20d81d9",
   "metadata": {},
   "outputs": [],
   "source": [
    "import IPython.display as ipd\n",
    "ipd.Audio(data=read_wav_file(filename), rate=fs)\n"
   ]
  }
 ],
 "metadata": {
  "kernelspec": {
   "display_name": "Python 3 (ipykernel)",
   "language": "python",
   "name": "python3"
  },
  "language_info": {
   "codemirror_mode": {
    "name": "ipython",
    "version": 3
   },
   "file_extension": ".py",
   "mimetype": "text/x-python",
   "name": "python",
   "nbconvert_exporter": "python",
   "pygments_lexer": "ipython3",
   "version": "3.11.7"
  }
 },
 "nbformat": 4,
 "nbformat_minor": 5
}
