{
 "cells": [
  {
   "cell_type": "markdown",
   "id": "ea483d5b",
   "metadata": {},
   "source": [
    "# How to write WAVE Files in Python\n",
    "\n",
    "This sections will cover how to deal with [WAVE format files](https://ccrma.stanford.edu/courses/422-winter-2014/projects/WaveFormat) in python.\n",
    "\n",
    "Modules exist already to do a lot of this work, but the purpose here is to demonstrate the principles of creating a wav file from scratch, regardless of the programming langauage used. \n",
    "\n",
    "This resource is presented as a guide for an instructor to create a light-weight utility for students which can be deployed easily which is useful when internet connections break or administrative privileges don't allow for easy installation of additional software.\n",
    "\n",
    "It is also a resource for the curious student who would like to know a little more about how audio is packaged up for playback in its simplest form.\n",
    "\n",
    "The following is written in python using just standard libraries. Alongside this article are some examples in other programming languages. Python also comes with the [`wave` module](https://docs.python.org/3/library/wave.html) and an example of using it is gicven in the section [Using the `wave` Module](#Using-the-wave-Module). This is helpful if you're focus is simply on achieving a quick method for audio playback. Much of the same philosophy from the rest of this article is applicable, some components may be a little more opaque when designing a library.\n",
    "\n",
    "\n",
    "## Benefits to Making Your Own Library\n",
    "\n",
    "- agile: you can change it when you need to\n",
    "- reusable: it should be something simple enough you can pass it on to students to modify as they please.\n",
    "- flexible: it should be something you can drop into a project for when administrative priveleges, internet connections and a myriad of other IT disasters conspire against you to derail a lesson plan.\n",
    "- personal: it's _your_ library and you can customuse it as you please. As an instructor you may want to adapt it for creating coding challenges, as a sound designer or musician you might want to add functionality specific to your needs.\n",
    "\n",
    "## Jupyter Notebook Shortcuts\n",
    "\n",
    "|                   Function |           macOS           |              Windows              |\n",
    "| -------------------------: | :-----------------------: | :-------------------------------: |\n",
    "|                  Run Cells | <kbd>⌘</kbd>+<kbd>⏎</kbd> | <kbd>CTRL</kbd>+<kbd>ENTER</kbd>  |\n",
    "| Run Cells and Select Below | <kbd>⇧</kbd>+<kbd>⏎</kbd> | <kbd>SHIFT</kbd>+<kbd>ENTER</kbd> |\n",
    "| Run Cells and Insert Below | <kbd>⌥</kbd>+<kbd>⏎</kbd> |  <kbd>ALT</kbd>+<kbd>ENTER</kbd>  |\n",
    "|        Toggle Line Numbers | <kbd>⇧</kbd>+<kbd>L</kbd> |   <kbd>SHIFT</kbd>+<kbd>L</kbd>   |\n",
    "|             New Cell Above |       <kbd>a</kbd>        |           <kbd>a</kbd>            |\n",
    "|             New Cell Below |       <kbd>b</kbd>        |           <kbd>b</kbd>            |\n",
    "|                Delete Cell | <kbd>d</kbd> <kbd>d</kbd> |     <kbd>d</kbd> <kbd>d</kbd>     |\n"
   ]
  },
  {
   "cell_type": "markdown",
   "id": "7611c206",
   "metadata": {},
   "source": [
    "## WAVE Format Header\n",
    "\n",
    "The elegant part of the WAVE format file is that the header is actually quite simple to understand. It is this header that defines a WAVE file, the `.wav` extension is just a hint to software as to what the file containes.\n",
    "\n",
    "There are 44 bytes of of header data to understand, most of that is fixed values anyway, so there isn't a lot to remember.\n",
    "\n",
    "Below is a table of the header in order. Offset and Size columns contain values in bytes:\n",
    "\n",
    "| Endian | Offset | Field Name       | Size |\n",
    "| -----: | :----: | ---------------- | :--: |\n",
    "|    big |   0    | Chunk ID         |  4   |\n",
    "| little |   4    | Chunk Size       |  4   |\n",
    "|    big |   8    | Format           |  4   |\n",
    "|    big |   12   | Sub-Chunk 1 ID   |  4   |\n",
    "| little |   16   | Sub-Chunk 1 Size |  4   |\n",
    "| little |   20   | Audio Format     |  2   |\n",
    "| little |   22   | Num Channels     |  2   |\n",
    "| little |   24   | Sample Rate      |  4   |\n",
    "| little |   28   | Byte Rate        |  4   |\n",
    "| little |   32   | Block Align      |  2   |\n",
    "| little |   34   | Bits Per Sample  |  2   |\n",
    "|    big |   36   | Sub-Chunk 2 ID   |  4   |\n",
    "| little |   40   | Sub-Chunk 2 Size |  4   |\n",
    "| little |   44   | PCM Audio Data   |  ?   |\n",
    "\n",
    "The only unknown size is the PCM Audio Data as that will be determined by the number of samples and the byte depth.\n",
    "\n",
    "### Notes of Terminology\n",
    "\n",
    "A couple of notes on terminology before going forward.\n",
    "\n",
    "- Pulse Code Modulation (PCM): The format of digital audio typically found in a WAVE file.\n",
    "- Byte Depth vs. Bit Depth: Refer to fundamentally the same thing. Digital PCM audio resolution is generally talked of in bit depth (or bits per sample). Byte depth is simply Bit Depth ÷ 8, or bit depth in units of bytes.\n",
    "- WAVE format vs. wav vs. `.wav`: all refer to a file in the WAVE format and are interchangeably\n",
    "- samples vs. frames: In PCM audio a _sample_ is a single digital amplitude value for a single channel. A _frame_ is a collection of samples for all channels in a single moment in time. This means for monophonic audio 'sample' and 'frame' are _technically_ the same thing, but this resource will attempt to make the distinction clear in situations where increasing the number of channels may cause confusion.\n",
    "- Endian: The order of bytes in a multi-byte number. You could describe the number `234` as starting from the 'big end' with \"2 hundreds, 3 tens, 4 units\"  or the 'little end' as \"4 units, 3 tens, 2 hundreds\". The same applies for data with multiple bytes. What this comes down to is when you have to write a value one byte at a time, what order do you do it in. Don't worry, it will be referred to explicitly when the time comes.\n",
    "\n",
    "### Header Values\n",
    "\n",
    "Below is a table of the header fields, their type and what value or calculations is needed.\n",
    "\n",
    "|               Date Type | C Type     | Field Name       | Value                                           | Desciription                                     |\n",
    "| ----------------------: | :--------- | ---------------- | :---------------------------------------------- | :----------------------------------------------- |\n",
    "|      4 ASCII characters | `char[4]`  | Chunk ID         | `\"RIFF\"`                                        | The characters `R`,`I`,`F`,`F`                   |\n",
    "| unsigned 4-byte integer | `uint32_t` | Chunk Size       | `4 + (8 + SubChunk1Size) + (8 + SubChunk2Size)` | Size of the file in bytes                        |\n",
    "|      4 ASCII characters | `char[4]`  | Format           | `\"WAVE\"`                                         | The characters `W`,`A`,`V`,`E`                   |\n",
    "|      4 ASCII characters | `char[4]`  | Sub-Chunk 1 ID   | `\"fmt \"`                                        | The characters `f`,`m`,`t`,` `                   |\n",
    "| unsigned 4-byte integer | `uint32_t` | Sub-Chunk 1 Size | `16`                                            | The size of the fields up to Bits per Sample     |\n",
    "| unsigned 2-byte integer | `uint16_t` | Audio Format     | `1`                                             | `1` for PCM. See Appendix on Audio Format        |\n",
    "| unsigned 2-byte integer | `uint16_t` | Num Channels     | `1`                                             | Number of channels: 1 = mono, 2 = stereo         |\n",
    "| unsigned 4-byte integer | `uint32_t` | Sample Rate      | `44100`                                         | Sampling Rate in Hz                              |\n",
    "| unsigned 4-byte integer | `uint32_t` | Byte Rate        | `SampleRate * NumChannels * BitsPerSample/8`    | Bytes per second transferred by audio            |\n",
    "| unsigned 2-byte integer | `uint16_t` | Block Align      | `NumChannels * BitsPerSample/8`                 | Size of a single frame                           |\n",
    "| unsigned 2-byte integer | `uint16_t` | Bits Per Sample  | `16`                                            | Size of a single sample                          |\n",
    "|      4 ASCII characters | `char[4]`  | Sub-Chunk 2 ID   | `\"data\"`                                        | The characters `d`,`a`,`t`,`a`                   |\n",
    "| unsigned 4-byte integer | `uint32_t` | Sub-Chunk 2 Size | `NumSamples * NumChannels * BitsPerSample/8`    | size of audio data (without the header) in bytes |\n",
    "\n",
    "The audio data type is dictated by the `Bits Per Sample` field and the `Audio Format`. For the rest of this article we will work exclusively in 16-bit audio. If you want to start experimenting or would like to set a challenge based on resolution, those are the two fields which will require your attention.\n",
    "\n",
    "#### Header Value Notes\n",
    "\n",
    "There are some common stumbling blocks which are worthwhile being aware of as they might provide nice learning opportunities for students.\n",
    "\n",
    "- Sub-Chunk 1 ID: there is a space character ` ` in the `\"fmt \"` character string that is very easy to miss. In fact, `Chunk ID`, `Format`, `Sub-Chunk 1 ID` a `Sub-Chunk 2 ID` are all just ASCII strings. Ask your students to open a wave file in a text editor and see if they can find them. See if the students can also find wav files with other text like `bext` which would indicate a [broadcast extension audio file](https://tech.ebu.ch/docs/tech/tech3285.pdf)\n",
    "- PCM audio data is always signed EXCEPT for 8-bit (1 byte) data when the it is unsigned, centering on `127`.\n",
    "- There is a hard limit to the size of an audio file, given that `Chunk Size` is a 4 byte integer i.e. $2^{32}$ bytes (or ~4.2 Gigabytes)\n"
   ]
  },
  {
   "cell_type": "markdown",
   "id": "3c2cc7d4",
   "metadata": {},
   "source": [
    "## Creating a WAVE file\n",
    "\n",
    "So far there has been a lot of explanation on the structure of the WAVE format file, but it is all theory and abstract until you actually have to use that information to create a file. The section contains step-by-step instructions on how to create a WAVE file alongside some notes on potential problems you or your students may stumble across.\n",
    "\n",
    "Like any recipe, lets first assmble our ingredients before we start cooking. From the table above we can simply take the field names and turn those into more pythonic variable names\n",
    "\n",
    "| Field Name       | python variable    |\n",
    "| ---------------- | ------------------ |\n",
    "| Chunk ID         | `chunk_id`         |\n",
    "| Chunk Size       | `chunk_size`       |\n",
    "| Format           | `format`           |\n",
    "| Sub_Chunk 1 ID   | `sub_chunk_1_id`   |\n",
    "| Sub_Chunk 1 Size | `sub_chunk_1_size` |\n",
    "| Audio Format     | `audio_format`     |\n",
    "| Num Channels     | `num_channels`     |\n",
    "| Sample Rate      | `sample_rate`      |\n",
    "| Byte Rate        | `byte_rate`        |\n",
    "| Block Align      | `block_align`      |\n",
    "| Bits Per Sample  | `bits_per_sample`  |\n",
    "| Sub_Chunk 2 ID   | `sub_chunk_2_id`   |\n",
    "| Sub_Chunk 2 Size | `sub_chunk_2_size` |\n",
    "\n",
    "We know the value that most of these have to be so can also fill in those blanks\n",
    "\n",
    "| Field Name       | python variable    | Value                                                 |\n",
    "| ---------------- | ------------------ | :---------------------------------------------------- |\n",
    "| Chunk ID         | `chunk_id`         | `b\"RIFF\"`                                              |\n",
    "| Chunk Size       | `chunk_size`       | `4 + (8 + sub_chunk_1_size) + (8 + sub_chunk_2_size)` |\n",
    "| Format           | `format`           | `b\"WAVE\"`                                               |\n",
    "| Sub_Chunk 1 ID   | `sub_chunk_1_id`   | `b\"fmt \"`                                              |\n",
    "| Sub_Chunk 1 Size | `sub_chunk_1_size` | `16`                                                  |\n",
    "| Audio Format     | `audio_format`     | `1`                                                   |\n",
    "| Num Channels     | `num_channels`     | `1`                                                   |\n",
    "| Sample Rate      | `sample_rate`      | `44100`                                               |\n",
    "| Byte Rate        | `byte_rate`        | `sample_rate * num_channels * bits_per_sample/8`      |\n",
    "| Block Align      | `block_align`      | `num_channels * bits_per_sample/8`                    |\n",
    "| Bits Per Sample  | `bits_per_sample`  | `16`                                                  |\n",
    "| Sub_Chunk 2 ID   | `sub_chunk_2_id`   | `b\"data\"`                                              |\n",
    "| Sub_Chunk 2 Size | `sub_chunk_2_size` | `num_samples * num_channels * bits_per_sample/8`      |\n",
    "\n",
    "which gives us:\n",
    "\n",
    "```python\n",
    "chunk_id         = b\"RIFF\"                                             \n",
    "chunk_size       = 4 + (8 + sub_chunk_1_size) + (8 + sub_chunk_2_size)\n",
    "format           = b\"WAVE\"                                             \n",
    "sub_chunk_1_id   = b\"fmt \"                                             \n",
    "sub_chunk_1_size = 16                                                 \n",
    "audio_format     = 1                                                  \n",
    "num_channels     = 1                                                  \n",
    "sample_rate      = 44100                                              \n",
    "byte_rate        = sample_rate * num_channels * bits_per_sample/8     \n",
    "block_align      = num_channels * bits_per_sample/8                   \n",
    "bits_per_sample  = 16                                                 \n",
    "sub_chunk_2_id   = b\"data\"                                             \n",
    "sub_chunk_2_size = num_samples * num_channels * bits_per_sample/8     \n",
    "```\n",
    "\n",
    "For the character strings, we have to use strings of bytes which [requires the prefix `b`](https://docs.python.org/3/reference/lexical_analysis.html#string-and-bytes-literals) e.g. `b\"RIFF\"`\n",
    "\n",
    "We have a problem, we need audio data before we know how long it is going to be. We will also have to change the order above as we are currently using variables before we even create them.\n",
    "\n",
    "Lets begin by making some audio and to do so we import some functions and variables from the math library."
   ]
  },
  {
   "cell_type": "code",
   "execution_count": null,
   "id": "b92fcbef",
   "metadata": {},
   "outputs": [],
   "source": [
    "from math import sin, pi"
   ]
  },
  {
   "cell_type": "markdown",
   "id": "19d9c4b6",
   "metadata": {},
   "source": [
    "For the audio we create a 440 Hz sine tone, 1 secod long at sampling rate 44.1 kHz. "
   ]
  },
  {
   "cell_type": "code",
   "execution_count": null,
   "id": "ba6a543d",
   "metadata": {},
   "outputs": [],
   "source": [
    "fs       = 44100.0   # Sampling Rate \n",
    "f0       = 440.0     # Fundamental frequency\n",
    "duration = 1.0       # in seconds\n",
    "\n",
    "delta    = 2.0 * pi * f0 / fs # how much does the phase change between samples\n",
    "sine_wave = [sin(delta * i) for i in range(int(duration*fs))]\n"
   ]
  },
  {
   "cell_type": "markdown",
   "id": "60941756",
   "metadata": {},
   "source": [
    "The number of samples is simply the length of the `sine_wave array`"
   ]
  },
  {
   "cell_type": "code",
   "execution_count": null,
   "id": "2bb32f79",
   "metadata": {},
   "outputs": [],
   "source": [
    "num_samples = len(sine_wave)"
   ]
  },
  {
   "cell_type": "markdown",
   "id": "a85ab6ca",
   "metadata": {},
   "source": [
    "Now we can start populating the fields of the WAVE header"
   ]
  },
  {
   "cell_type": "code",
   "execution_count": null,
   "id": "6d7d2962",
   "metadata": {},
   "outputs": [],
   "source": [
    "chunk_id         = b'RIFF'                                             \n",
    "format           = b'WAVE'                                              \n",
    "sub_chunk_1_id   = b'fmt '                                             \n",
    "sub_chunk_1_size = 16                                                 \n",
    "audio_format     = 1                                                  \n",
    "num_channels     = 1                                                  \n",
    "sample_rate      = 44100                                              \n",
    "bits_per_sample  = 16                                                 \n",
    "sub_chunk_2_id   = b'data'                                             \n",
    "byte_rate        = sample_rate * num_channels * bits_per_sample // 8     \n",
    "block_align      = num_channels * bits_per_sample // 8                   \n",
    "sub_chunk_2_size = num_samples * num_channels * bits_per_sample // 8     \n",
    "chunk_size       = 4 + (8 + sub_chunk_1_size) + (8 + sub_chunk_2_size)"
   ]
  },
  {
   "cell_type": "markdown",
   "id": "810d1089",
   "metadata": {},
   "source": [
    "Note: the [`//` floor division operator]() is used here to ensure the result is an integer.\n",
    "\n",
    "Though we have assigned the fields out of order, it is very important that we write them in order of the tables above.\n",
    "\n",
    "Before we start writing we need a name for our file."
   ]
  },
  {
   "cell_type": "code",
   "execution_count": null,
   "id": "3282ee01",
   "metadata": {},
   "outputs": [],
   "source": [
    "filename = \"a440Hz.wav\""
   ]
  },
  {
   "cell_type": "markdown",
   "id": "30cd509d",
   "metadata": {},
   "source": [
    "To write a file in python 3 we can use the `with open(filename,'wb')` construct.\n",
    "The [`wb` option in `open`](https://docs.python.org/3/library/functions.html#open) signfies we want to open a file and write to it in binary mode, which we do as we are not writing text, but rather byte data.\n",
    "\n",
    "\n",
    "\n"
   ]
  },
  {
   "cell_type": "code",
   "execution_count": null,
   "id": "3c855df6",
   "metadata": {},
   "outputs": [],
   "source": [
    "wav_file =  open(filename, 'wb')"
   ]
  },
  {
   "cell_type": "markdown",
   "id": "0c808e35",
   "metadata": {},
   "source": [
    "To write the data in the correct byte order (remember the Endian column from the first table) we can use the [`struct` module](https://docs.python.org/3/library/struct.html). The `struct` module's `pack` and `unpack` allows us to control [what order the data is written](https://docs.python.org/3/library/struct.html#byte-order-size-and-alignment) and [its type](https://docs.python.org/3/library/struct.html#format-characters)."
   ]
  },
  {
   "cell_type": "code",
   "execution_count": null,
   "id": "355ea479",
   "metadata": {},
   "outputs": [],
   "source": [
    "import struct"
   ]
  },
  {
   "cell_type": "markdown",
   "id": "dbc145c1",
   "metadata": {},
   "source": [
    "Taking the values from the tables in the `struct` documentation that is most relevant to us:\n",
    "\n",
    "| Format | Type                      |\n",
    "| :----: | ------------------------: |\n",
    "| `H`    | unsigned 16-bit integer   |\n",
    "| `h`    | signed 16-bit integer     |\n",
    "| `I`    | unsigned 32-bit integer   |\n",
    "| `s`    | byte string of characters |\n",
    "\n",
    "\n",
    "| Character | Endian   |\n",
    "| --------- | -------- |\n",
    "| `<`       | `little` |\n",
    "| `>`       | `big`    |\n",
    "\n",
    "\n",
    "For example, `chunk_id` is a string with 4 characters and the `struct` format would be `4s`. `sub_chunk_1_size` is a little-endian 32-bit unsigned integer, which would require `<I`\n",
    "\n",
    "\n",
    "| Endian | C Type     | `struct` format | python variable    |\n",
    "| -----: | :--------- | :-------------: | ------------------ |\n",
    "|    big | `char[4]`  |     `'4s'`      | `chunk_id`         |\n",
    "| little | `uint32_t` |     `'<I'`      | `chunk_size`       |\n",
    "|    big | `char[4]`  |     `'4s'`      | `format`           |\n",
    "|    big | `char[4]`  |     `'4s'`      | `sub_chunk_1_id`   |\n",
    "| little | `uint32_t` |     `'<I'`      | `sub_chunk_1_size` |\n",
    "| little | `uint16_t` |     `'<H'`      | `audio_format`     |\n",
    "| little | `uint16_t` |     `'<H'`      | `num_channels`     |\n",
    "| little | `uint32_t` |     `'<I'`      | `sample_rate`      |\n",
    "| little | `uint32_t` |     `'<I'`      | `byte_rate`        |\n",
    "| little | `uint16_t` |     `'<H'`      | `block_align`      |\n",
    "| little | `uint16_t` |     `'<H'`      | `bits_per_sample`  |\n",
    "|    big | `char[4]`  |     `'4s'`      | `sub_chunk_2_id`   |\n",
    "| little | `uint32_t` |     `'<I'`      | `sub_chunk_2_size` |\n",
    "\n",
    "Putting that all together gives us"
   ]
  },
  {
   "cell_type": "code",
   "execution_count": null,
   "id": "7d351c6d",
   "metadata": {
    "scrolled": false
   },
   "outputs": [],
   "source": [
    "wav_file.write(struct.pack('4s', chunk_id))\n",
    "wav_file.write(struct.pack('<I', chunk_size))\n",
    "wav_file.write(struct.pack('4s', format))\n",
    "wav_file.write(struct.pack('4s', sub_chunk_1_id))\n",
    "wav_file.write(struct.pack('<I', sub_chunk_1_size))\n",
    "wav_file.write(struct.pack('<H', audio_format))\n",
    "wav_file.write(struct.pack('<H', num_channels))\n",
    "wav_file.write(struct.pack('<I', sample_rate))\n",
    "wav_file.write(struct.pack('<I', byte_rate))\n",
    "wav_file.write(struct.pack('<H', block_align))\n",
    "wav_file.write(struct.pack('<H', bits_per_sample))\n",
    "wav_file.write(struct.pack('4s', sub_chunk_2_id))\n",
    "wav_file.write(struct.pack('<I', sub_chunk_2_size))"
   ]
  },
  {
   "cell_type": "markdown",
   "id": "eeec1141",
   "metadata": {},
   "source": [
    "If we close our file now, it _should_ be 44 bytes in size."
   ]
  },
  {
   "cell_type": "code",
   "execution_count": null,
   "id": "b39f3f2f",
   "metadata": {},
   "outputs": [],
   "source": [
    "wav_file.close()"
   ]
  },
  {
   "cell_type": "markdown",
   "id": "f25bea8c",
   "metadata": {},
   "source": [
    "### PCM Audio Bit Depth\n",
    "\n",
    "To write the audio date, we have to first transform it from floating point to a 16-bit value.\n",
    "\n",
    "Signed integer PCM data has a quirk where the maximum negative value is one larger than the maximum positive value.\n",
    "\n",
    "For unsigned 16-bit values the maximum number of values that can be represented is $2^{16}$. With signed values, we lose one bit to tell us if the sign is positive or negative (the sign bit). That means we actually have $2^{15}$ plus and minus values. One of _those_ values is zero which gives us $2^{15}$ for negative values and $2^{15} - 1$ for positive values.\n",
    "\n",
    "We could simply clamp the apmlitude to $2^{15} - 1$ to avoid any trouble. However, this is a really nice example to talk about [twos-compliment](https://www.cs.cornell.edu/~tomf/notes/cps104/twoscomp.html) binary representation. The choice is up to you. To give the greatest freedom, we will deal with the problem in this example.\n",
    "\n",
    "The magnitude of maximum value for 16-bit signed is $2^{15}$. Using the power oprator `**` that looks like"
   ]
  },
  {
   "cell_type": "code",
   "execution_count": null,
   "id": "d7c4c140",
   "metadata": {},
   "outputs": [],
   "source": [
    "max_value = 2**15"
   ]
  },
  {
   "cell_type": "markdown",
   "id": "4712ac53",
   "metadata": {},
   "source": [
    "We can generate pcm data in the correct range using a combination of the [`max`](https://docs.python.org/3/library/functions.html#max) and [`min`](https://docs.python.org/3/library/functions.html#min) functions"
   ]
  },
  {
   "cell_type": "code",
   "execution_count": null,
   "id": "99f447d5",
   "metadata": {},
   "outputs": [],
   "source": [
    "pcm = [max(-max_value, min(max_value-1, int(sample * max_value))) for sample in sine_wave]           "
   ]
  },
  {
   "cell_type": "markdown",
   "id": "69f85e84",
   "metadata": {},
   "source": [
    "Breaking that down:\n",
    "\n",
    "**A**. `int(sample * max_value)`: Scale samples to 2^{15}\n",
    "\n",
    "**B**. `min(max_value-1,A)`: which value is smaller, **A** (`int(sample * max_value)`) or $2^{15}-1$\n",
    "\n",
    "**C**. `max(-max_value, B)`: which value is bigger, **B** (the output from `min`) or $-2^{15}$\n",
    "\n",
    "This should stop any accidental overflows.\n",
    "\n",
    "We can then write out this data to a file.\n",
    "\n",
    "We previously closed the file so we will have to open it again. This time we are appending data so we use the 'wb+' option"
   ]
  },
  {
   "cell_type": "code",
   "execution_count": null,
   "id": "513ba972",
   "metadata": {},
   "outputs": [],
   "source": [
    "wav_file = open(filename, 'ab')"
   ]
  },
  {
   "cell_type": "markdown",
   "id": "be255a12",
   "metadata": {},
   "source": [
    "The data is 16-bit signed, little endian. Using the tables above that means our format string is `<h`"
   ]
  },
  {
   "cell_type": "code",
   "execution_count": null,
   "id": "4a72b255",
   "metadata": {},
   "outputs": [],
   "source": [
    "for sample in pcm:\n",
    "    wav_file.write(struct.pack('<h', sample))\n",
    "    \n",
    "wav_file.close()"
   ]
  },
  {
   "cell_type": "markdown",
   "id": "9243534d",
   "metadata": {},
   "source": [
    "Lets compile that altogteher in a function called `write_wav_file` so that we can reuse it and modify it later."
   ]
  },
  {
   "cell_type": "code",
   "execution_count": null,
   "id": "961cf344",
   "metadata": {},
   "outputs": [],
   "source": [
    "def write_wav_file(audio, \n",
    "                   filename,\n",
    "                   num_channels=1,\n",
    "                   bits_per_sample=16,\n",
    "                   sample_rate=44100,):\n",
    "    \n",
    "    number_of_samples = len(audio)\n",
    "    chunk_id         = b'RIFF'                                             \n",
    "    format           = b'WAVE'                                              \n",
    "    sub_chunk_1_id   = b'fmt '                                             \n",
    "    sub_chunk_1_size = 16                                                 \n",
    "    audio_format     = 1                                                  \n",
    "    sub_chunk_2_id   = b'data'                                             \n",
    "    byte_rate        = sample_rate * num_channels * bits_per_sample // 8     \n",
    "    block_align      = num_channels * bits_per_sample // 8                   \n",
    "    sub_chunk_2_size = num_samples * num_channels * bits_per_sample // 8     \n",
    "    chunk_size       = 4 + (8 + sub_chunk_1_size) + (8 + sub_chunk_2_size)\n",
    "\n",
    "    with open(filename, 'wb') as wav_file:\n",
    "        wav_file.write(struct.pack('4s', chunk_id))\n",
    "        wav_file.write(struct.pack('<I', chunk_size))\n",
    "        wav_file.write(struct.pack('4s', format))\n",
    "        wav_file.write(struct.pack('4s', sub_chunk_1_id))\n",
    "        wav_file.write(struct.pack('<I', sub_chunk_1_size))\n",
    "        wav_file.write(struct.pack('<H', audio_format))\n",
    "        wav_file.write(struct.pack('<H', num_channels))\n",
    "        wav_file.write(struct.pack('<I', sample_rate))\n",
    "        wav_file.write(struct.pack('<I', byte_rate))\n",
    "        wav_file.write(struct.pack('<H', block_align))\n",
    "        wav_file.write(struct.pack('<H', bits_per_sample))\n",
    "        wav_file.write(struct.pack('4s', sub_chunk_2_id))\n",
    "        wav_file.write(struct.pack('<I', sub_chunk_2_size))\n",
    "\n",
    "        max_val = 2**15\n",
    "        for sample in sine_wave:\n",
    "            pcm_sample = int(sample * max_val)\n",
    "            pcm_sample = max(-max_val, min((max_val-1), pcm_sample))  # Clamp to valid range\n",
    "            wav_file.write(struct.pack('<h', pcm_sample))"
   ]
  },
  {
   "cell_type": "code",
   "execution_count": null,
   "id": "c3742faf",
   "metadata": {},
   "outputs": [],
   "source": [
    "write_wav_file(sine_wave, \"a440hz-from-function.wav\")"
   ]
  },
  {
   "cell_type": "markdown",
   "id": "4cb15f5e",
   "metadata": {},
   "source": [
    "## Reading a WAVE file\n",
    "\n",
    "A good test after creating a function to write WAVE file is to then read the data and write iit back out to another file. This should ensure that bothe read and write functions are working correctly.\n",
    "\n",
    "We have just created a file so lets try and read it"
   ]
  },
  {
   "cell_type": "code",
   "execution_count": null,
   "id": "e4ffa4ce",
   "metadata": {},
   "outputs": [],
   "source": [
    "wav_file = open(filename, 'rb')"
   ]
  },
  {
   "cell_type": "markdown",
   "id": "5ae665ca",
   "metadata": {},
   "source": [
    "For reading we need to perform the reverse operation for writing. For the `struct` module this means we use th `unpack` function. \n",
    "\n",
    "`struct.unpack` always returns a tuple, even if it only has one element in it.\n",
    "\n",
    "\n",
    "We could and an index after the function like\n",
    "\n",
    "```python\n",
    "chunk_id        = struct.unpack('4s', wav_file.read(4))[0]\n",
    "chunk_size      = struct.unpack('<I', wav_file.read(4))[0]\n",
    "format          = struct.unpack('4s', wav_file.read(4))[0]\n",
    "subchunk1_id    = struct.unpack('4s', wav_file.read(4))[0]\n",
    "subchunk1_size  = struct.unpack('<I', wav_file.read(4))[0]\n",
    "audio_format    = struct.unpack('<H', wav_file.read(2))[0]\n",
    "num_channels    = struct.unpack('<H', wav_file.read(2))[0]\n",
    "sample_rate     = struct.unpack('<I', wav_file.read(4))[0]\n",
    "byte_rate       = struct.unpack('<I', wav_file.read(4))[0]\n",
    "block_align     = struct.unpack('<H', wav_file.read(2))[0]\n",
    "bits_per_sample = struct.unpack('<H', wav_file.read(2))[0]\n",
    "subchunk2_id    = struct.unpack('4s', wav_file.read(4))[0]\n",
    "subchunk2_size  = struct.unpack('<I', wav_file.read(4))[0]\n",
    "```\n",
    "\n",
    "With python, a cleaner is perhaps to add a `,` after the variable."
   ]
  },
  {
   "cell_type": "code",
   "execution_count": null,
   "id": "dacafbe9",
   "metadata": {},
   "outputs": [],
   "source": [
    "chunk_id,        = struct.unpack('4s', wav_file.read(4))\n",
    "chunk_size,      = struct.unpack('<I', wav_file.read(4))\n",
    "format,          = struct.unpack('4s', wav_file.read(4))\n",
    "subchunk1_id,    = struct.unpack('4s', wav_file.read(4))\n",
    "subchunk1_size,  = struct.unpack('<I', wav_file.read(4))\n",
    "audio_format,    = struct.unpack('<H', wav_file.read(2))\n",
    "num_channels,    = struct.unpack('<H', wav_file.read(2))\n",
    "sample_rate,     = struct.unpack('<I', wav_file.read(4))\n",
    "byte_rate,       = struct.unpack('<I', wav_file.read(4))\n",
    "block_align,     = struct.unpack('<H', wav_file.read(2))\n",
    "bits_per_sample, = struct.unpack('<H', wav_file.read(2))\n",
    "subchunk2_id,    = struct.unpack('4s', wav_file.read(4))\n",
    "subchunk2_size,  = struct.unpack('<I', wav_file.read(4))"
   ]
  },
  {
   "cell_type": "markdown",
   "id": "d2e6f50f",
   "metadata": {},
   "source": [
    "Remembering the maximum absolute value is `2**15`"
   ]
  },
  {
   "cell_type": "code",
   "execution_count": null,
   "id": "9b6f4f7a",
   "metadata": {},
   "outputs": [],
   "source": [
    "max_value = 2**15"
   ]
  },
  {
   "cell_type": "markdown",
   "id": "339b6688",
   "metadata": {},
   "source": [
    "`subchunk2_size` tells us the size of the audio in bytes. The number of samples is `subchunk2_size / 2` as there are 2 bytes per sample value.\n",
    "\n",
    "`wav_file.read()` will read the remainder of the file."
   ]
  },
  {
   "cell_type": "code",
   "execution_count": null,
   "id": "b769fc41",
   "metadata": {},
   "outputs": [],
   "source": [
    "pcm = struct.unpack(f'<{subchunk2_size//2}h', wav_file.read())"
   ]
  },
  {
   "cell_type": "markdown",
   "id": "004b3fd6",
   "metadata": {},
   "source": [
    "These values are then scaled to floating point ±1 by dividing by out maximum value"
   ]
  },
  {
   "cell_type": "code",
   "execution_count": null,
   "id": "cdcf9d51",
   "metadata": {},
   "outputs": [],
   "source": [
    "audio = [sample / max_value for sample in pcm]"
   ]
  },
  {
   "cell_type": "markdown",
   "id": "d4f09f5f",
   "metadata": {},
   "source": [
    "Finally we can write the audio back out again and check that it works."
   ]
  },
  {
   "cell_type": "code",
   "execution_count": null,
   "id": "29d8569a",
   "metadata": {},
   "outputs": [],
   "source": [
    "write_wav_file(audio, \"a440hz-from-read-file.wav\")"
   ]
  },
  {
   "cell_type": "markdown",
   "id": "74883920",
   "metadata": {},
   "source": [
    "Added together our `read_wav_file` function might look like"
   ]
  },
  {
   "cell_type": "code",
   "execution_count": null,
   "id": "dff11f79",
   "metadata": {},
   "outputs": [],
   "source": [
    "def read_wav_file(filename):\n",
    "    with open(filename, 'rb') as wav_file:                \n",
    "        (chunk_id,)        = struct.unpack('4s', wav_file.read(4))\n",
    "        (chunk_size,)      = struct.unpack('<I', wav_file.read(4))\n",
    "        (format,)          = struct.unpack('4s', wav_file.read(4))\n",
    "        (subchunk1_id,)    = struct.unpack('4s', wav_file.read(4))\n",
    "        (subchunk1_size,)  = struct.unpack('<I', wav_file.read(4))\n",
    "        (audio_format,)    = struct.unpack('<H', wav_file.read(2))\n",
    "        (num_channels,)    = struct.unpack('<H', wav_file.read(2))\n",
    "        (sample_rate,)     = struct.unpack('<I', wav_file.read(4))\n",
    "        (byte_rate,)       = struct.unpack('<I', wav_file.read(4))\n",
    "        (block_align,)     = struct.unpack('<H', wav_file.read(2))\n",
    "        (bits_per_sample,) = struct.unpack('<H', wav_file.read(2))\n",
    "        (subchunk2_id,)    = struct.unpack('4s', wav_file.read(4))\n",
    "        (subchunk2_size,)  = struct.unpack('<I', wav_file.read(4))\n",
    "            \n",
    "        number_of_frames = subchunk2_size // (bits_per_sample // 8)\n",
    "\n",
    "        max_amplitude = 2**15\n",
    "        pcm = struct.unpack(f'<{subchunk2_size//2}h', wav_file.read())\n",
    "        audio = [sample / max_value for sample in pcm]\n",
    "\n",
    "    return audio"
   ]
  },
  {
   "cell_type": "code",
   "execution_count": null,
   "id": "83586f95",
   "metadata": {},
   "outputs": [],
   "source": []
  },
  {
   "cell_type": "markdown",
   "id": "83385d28",
   "metadata": {},
   "source": [
    "## Ideas for expansion\n",
    "\n",
    "\n",
    "What we have covered is how to sucessfully write a monophonic, 44.1 kHz, 16-bit WAVE file. There a a lot of potential ways on building on these two very simple functions that would provide an interesting challenege for students\n",
    "\n",
    "For some ideas on how to expand this we might consider\n",
    "\n",
    "- Get audio Metadata: Change the read function to not just return audio, but the audio metadata. Maybe using a dictionary or maybe these functions should be methods of a class?\n"
   ]
  },
  {
   "cell_type": "markdown",
   "id": "dcbfdcde",
   "metadata": {},
   "source": [
    "## Using the `wave` Module\n",
    "\n",
    "The [`wave` module](https://docs.python.org/3/library/wave.html) is one of pythons oldest original standard liraries meaning it can be considered universal and is guarenteed to be available in any python install.\n",
    "\n",
    "The wave library provides some handy functions to deal with parsing the header of a wav file so you don't have to do the work.\n",
    "\n",
    "Begin first by importing `wave`: "
   ]
  },
  {
   "cell_type": "code",
   "execution_count": null,
   "id": "3de6018a",
   "metadata": {},
   "outputs": [],
   "source": [
    "import wave"
   ]
  },
  {
   "cell_type": "markdown",
   "id": "fc084110",
   "metadata": {},
   "source": [
    "as always, we import some functions and variables from the math library"
   ]
  },
  {
   "cell_type": "code",
   "execution_count": null,
   "id": "a25ba35d",
   "metadata": {},
   "outputs": [],
   "source": [
    "from math import sin, pi"
   ]
  },
  {
   "cell_type": "markdown",
   "id": "538a58fc",
   "metadata": {},
   "source": [
    "here we can create our sine wav to be written to a file"
   ]
  },
  {
   "cell_type": "code",
   "execution_count": null,
   "id": "0864f212",
   "metadata": {},
   "outputs": [],
   "source": [
    "fs = 44100.0   # Sampling Rate \n",
    "f0 = 440.0     # Fundamental frequency\n",
    "duration = 1.0 # in seconds\n",
    "\n",
    "delta = 2.0 * pi * f0 / fs # how much does the phase change between samples\n",
    "\n",
    "sine_wave = [sin(delta * i) for i in range(int(duration*fs))]"
   ]
  },
  {
   "cell_type": "markdown",
   "id": "b9f08c0e",
   "metadata": {},
   "source": [
    "write to a wav file"
   ]
  },
  {
   "cell_type": "code",
   "execution_count": null,
   "id": "135fb2fc",
   "metadata": {},
   "outputs": [],
   "source": [
    "file = wave.open('test.wav', 'wb')"
   ]
  },
  {
   "cell_type": "code",
   "execution_count": null,
   "id": "05a2b238",
   "metadata": {},
   "outputs": [],
   "source": [
    "file.setnchannels(1)\n",
    "file.setsampwidth(2)\n",
    "file.setframerate(int(fs))"
   ]
  },
  {
   "cell_type": "markdown",
   "id": "6a11af4a",
   "metadata": {},
   "source": [
    "The `wave` module expects audio data to be in a byte format. We need to import the `struct` module which provides the ability to transform from one data type to another.\n",
    "\n",
    "We currently have a list of sample values and before we can write them to a file we need to turn them into a byte-string.\n",
    "\n",
    "This is typical data wrangling and will be an epected stage whenever writing data to a file.\n",
    "\n",
    "It can be a little dauntin for it to be one of the first things to introduce to students. Therefore, it is one of the benefits to abstracting the process away in a library. At first they can use the library you provide, but after a while you can invite them to open up the file and explore a little further.\n"
   ]
  },
  {
   "cell_type": "code",
   "execution_count": null,
   "id": "8795b6be",
   "metadata": {},
   "outputs": [],
   "source": [
    "import struct"
   ]
  },
  {
   "cell_type": "markdown",
   "id": "6f5ebc45",
   "metadata": {},
   "source": [
    "For explanation on the bit depth and scaling the audio see the [PCM-Audio-Bit-Depth section above](#PCM-Audio-Bit-Depth)\n",
    "\n",
    "This time we will take the more simplistic approach and scale to $2^{15} - 1$"
   ]
  },
  {
   "cell_type": "code",
   "execution_count": null,
   "id": "f7f4c029",
   "metadata": {},
   "outputs": [],
   "source": [
    "bit_depth = 16\n",
    "max_amplitude = (2 ** (bit_depth - 1)) - 1\n",
    "byte_data = b''.join([struct.pack('<h', int(sample * max_amplitude)) for sample in sine_wave])"
   ]
  },
  {
   "cell_type": "markdown",
   "id": "1c87da0e",
   "metadata": {},
   "source": [
    "We open the file with [`wave.open`](https://docs.python.org/3/library/wave.html#wave.open)"
   ]
  },
  {
   "cell_type": "code",
   "execution_count": null,
   "id": "21cdfffa",
   "metadata": {},
   "outputs": [],
   "source": [
    "filename = 'A440Hz-wave-module.wav'\n",
    "wave_file = wave.open(filename, 'wb')"
   ]
  },
  {
   "cell_type": "markdown",
   "id": "d7ca33f1",
   "metadata": {},
   "source": [
    "Before we can write the audio data to a file there are a couple of pieces of metadata to confiugure, namely\n",
    "\n",
    "- number of channels\n",
    "- byte depth\n",
    "- sample rate"
   ]
  },
  {
   "cell_type": "code",
   "execution_count": null,
   "id": "f79849dc",
   "metadata": {},
   "outputs": [],
   "source": [
    "wave_file.setnchannels(1)  # mono\n",
    "wave_file.setsampwidth(bit_depth // 8)  # 16-bit depth i.e. 2 bytes\n",
    "wave_file.setframerate(int(fs))"
   ]
  },
  {
   "cell_type": "markdown",
   "id": "61e223f9",
   "metadata": {},
   "source": [
    "after setting those we can write the byte data"
   ]
  },
  {
   "cell_type": "code",
   "execution_count": null,
   "id": "19885c11",
   "metadata": {},
   "outputs": [],
   "source": [
    "wave_file.writeframesraw(byte_data)"
   ]
  },
  {
   "cell_type": "code",
   "execution_count": null,
   "id": "1a0735a9",
   "metadata": {},
   "outputs": [],
   "source": [
    "wave_file.close()"
   ]
  },
  {
   "cell_type": "code",
   "execution_count": null,
   "id": "215ca5b9",
   "metadata": {},
   "outputs": [],
   "source": [
    "import IPython.display as ipd\n",
    "\n",
    "ipd.Audio(data=sine_wave, rate=fs)"
   ]
  },
  {
   "cell_type": "markdown",
   "id": "84f7dd13",
   "metadata": {},
   "source": [
    "# Reading a wav file\n",
    "\n",
    "Reading is a lot more simplistic than writing as a lot of decisions have been made for you.\n",
    "\n",
    "In general, to read a wav file you should expect to deal with three elements\n",
    "\n",
    "1. opening a file object in read mode\n",
    "2. reading byte data\n",
    "3. transforming byte data into floating point format\n",
    "\n",
    "For python it will be easiest to keep the audio sample format to a list of float type numbers.\n",
    "This is closest to what you will find in other programming languages.\n",
    "\n",
    "This assumes you are enforcing wav files with\n",
    "\n",
    "- 1 channel (mono)\n",
    "- 16-bit depth"
   ]
  },
  {
   "cell_type": "code",
   "execution_count": null,
   "id": "1b66d8ef",
   "metadata": {},
   "outputs": [],
   "source": [
    "import wave\n",
    "import struct\n",
    "\n",
    "wave_file = wave.open(filename, 'rb')\n",
    "p = wave_file.getparams()\n",
    "frames = wave_file.readframes(p.nframes)\n",
    "audio_samples = [sample[0] / max_amplitude for sample in struct.iter_unpack('<h',frames)]"
   ]
  },
  {
   "cell_type": "markdown",
   "id": "4ec0b2e4",
   "metadata": {},
   "source": [
    "The `struct` library's `unpack` functions always return a tuple, even if they are only 1 element long, the sort of arbitrary decision that can snipe some students into paralysis as they try to navigate. Another good reason to remove this kind of operation from view."
   ]
  },
  {
   "cell_type": "markdown",
   "id": "2e287b4b",
   "metadata": {},
   "source": [
    "## An example library\n",
    "\n",
    "Below is an example of a possible simple library you could provide.\n",
    "\n",
    "Modify based on what the fpucs of the lessons is. If it is teaching DSP, now might not be the time to punish students for getting the file extension wrong.\n",
    "\n",
    "If the focus _is_ to teach holistic programming skills, like how to read error, think perhaps of changing the contents of `if not filename.endswith('.wav'):` to throw a helpful error instead.\n",
    "\n",
    "The library is incredibly limited, but to an extent that is the point.\n",
    "\n",
    "Should only be a handful of lines, in this case under 30 lines.\n",
    "\n",
    "\n",
    "Treads some middle ground, enforce parameters like sample rate and bit depth.\n",
    "\n",
    "Don't be afraid to admit that you have pitched the library incorrectly.\n",
    "\n",
    "If students are tripping up at the same point, then you can be agile and alter the library accordingly.\n",
    "\n",
    "\n",
    "To import, all students should have to type is \n",
    "\n",
    "```py\n",
    "from wav_library import *\n",
    "```\n",
    "\n",
    "after which they will have access to the `write_wav_file` and `read_wav_file` functions\n"
   ]
  },
  {
   "cell_type": "code",
   "execution_count": null,
   "id": "2cf586e6",
   "metadata": {},
   "outputs": [],
   "source": [
    "# wav_library\n",
    "#\n",
    "# To import, all students should have to type is \n",
    "#\n",
    "# ```py\n",
    "# from wav_library import *\n",
    "# ```\n",
    "#\n",
    "# After which they will have access to the `write_wav_file` and `read_wav_file` functions\n",
    "#\n",
    "import struct\n",
    "import wave\n",
    "from math import sin, pi\n",
    "\n",
    "def write_wav_file(float_data, filename, nchannels=1, bit_depth=16, sample_rate=44100):\n",
    "    \n",
    "    normalisation = 1 / max([abs(x) for x in float_data])\n",
    "    \n",
    "    float_data = [sample * normalisation for sample in float_data]\n",
    "    \n",
    "    if not filename.endswith('.wav'):\n",
    "        filename += '.wav'\n",
    "        \n",
    "    with wave.open(filename, 'wb') as wave_file:\n",
    "        wave_file.setnchannels(nchannels)\n",
    "        wave_file.setsampwidth(bit_depth // 8)\n",
    "        wave_file.setframerate(sample_rate)\n",
    "                \n",
    "        max_amplitude = (2 ** (bit_depth - 1) - 1)\n",
    "        byte_data = b''.join([struct.pack('<h', int(sample * max_amplitude)) for sample in float_data])\n",
    "        \n",
    "        wave_file.writeframesraw(byte_data)\n",
    "\n",
    "def read_wav_file(filename):\n",
    "\n",
    "    if not filename.endswith('.wav'):\n",
    "        filename += '.wav'\n",
    "        \n",
    "    with wave.open(filename, 'rb') as wave_file:\n",
    "        p = wave_file.getparams()\n",
    "        frames = wave_file.readframes(p.nframes)\n",
    "        audio_samples = [sample[0] / max_amplitude for sample in struct.iter_unpack('<h',frames)]\n",
    "        return audio_samples"
   ]
  },
  {
   "cell_type": "markdown",
   "id": "34aa00be",
   "metadata": {},
   "source": [
    "Limitations with this approach\n",
    "\n",
    "There are a lot of drawbacks and stumbling blocks which, rather than pretending they don't exist, are worth being aware of.\n",
    "\n",
    "- guessing file names could cause confusion down the line\n",
    "- this doens't support stereo\n",
    "- not transferrable to other languages, this makes heavy use of python list comprehensions. Givene the prevalence of C languages in audio programming, it may be better to follow a standard for loop structure\n",
    "- messy returns. The read function must return a lot of variables. This could be done as with an object-orientated approach, but there is tradeoff with the complexity that would be removed and put in its place.\n",
    "- this assumes parameters that would likely change, expecially if students wish to use there own samples.\n",
    "- the audio is always normalised using `normalisation = 1.0 / max(abs(float_data))`"
   ]
  },
  {
   "cell_type": "code",
   "execution_count": null,
   "id": "d20d81d9",
   "metadata": {},
   "outputs": [],
   "source": [
    "import IPython.display as ipd\n",
    "ipd.Audio(data=read_wav_file(filename), rate=fs)\n"
   ]
  },
  {
   "cell_type": "markdown",
   "id": "705412b7",
   "metadata": {},
   "source": [
    "## Appendices\n",
    "\n",
    "\n",
    "### Audio Format Field Values\n",
    "\n",
    "| Hex Value | Format     |\n",
    "| --------: | ---------- |\n",
    "|    0x0001 | PCM        |\n",
    "|    0x0003 | IEEE Float |\n",
    "|    0x0006 | A LAW      |\n",
    "|    0x0007 | MU LAW     |\n"
   ]
  }
 ],
 "metadata": {
  "kernelspec": {
   "display_name": "Python 3 (ipykernel)",
   "language": "python",
   "name": "python3"
  },
  "language_info": {
   "codemirror_mode": {
    "name": "ipython",
    "version": 3
   },
   "file_extension": ".py",
   "mimetype": "text/x-python",
   "name": "python",
   "nbconvert_exporter": "python",
   "pygments_lexer": "ipython3",
   "version": "3.11.7"
  }
 },
 "nbformat": 4,
 "nbformat_minor": 5
}
