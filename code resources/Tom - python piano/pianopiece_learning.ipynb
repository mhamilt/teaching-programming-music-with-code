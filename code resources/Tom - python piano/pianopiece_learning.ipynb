{
 "cells": [
  {
   "cell_type": "markdown",
   "id": "PhWF9jo0Szif",
   "metadata": {
    "id": "PhWF9jo0Szif"
   },
   "source": [
    "# Import Libraries and set up helper functions\n",
    "\n",
    " - Add a single note to the Midi stream:\n",
    "  - `add_note(degree, length=1, vel=80)`\n",
    "  - e.g. `add_note(5)`\n",
    " - Add a chord (multiple notes) to the Midi stream:\n",
    "  - `add_chord(degrees, length=1, vel=80)`\n",
    "  - e.g. `add_chord([0, 2, 4])`\n",
    " - Clear all the current notes in the stream to start again:\n",
    "  - `s.clear()`\n",
    " - Output the stream as a midi file:\n",
    "  - `s.show('midi')`\n"
   ]
  },
  {
   "cell_type": "code",
   "execution_count": 1,
   "id": "f1dc8e1e-fe44-4070-be4e-46831ce4c376",
   "metadata": {
    "colab": {
     "base_uri": "https://localhost:8080/"
    },
    "executionInfo": {
     "elapsed": 15833,
     "status": "ok",
     "timestamp": 1752661271651,
     "user": {
      "displayName": "Tom Mudd",
      "userId": "17702228794484531571"
     },
     "user_tz": -60
    },
    "id": "f1dc8e1e-fe44-4070-be4e-46831ce4c376",
    "outputId": "cfbac763-79fa-4077-cd42-a15f30609f47"
   },
   "outputs": [
    {
     "name": "stdout",
     "output_type": "stream",
     "text": [
      "Requirement already satisfied: music21 in /usr/local/lib/python3.11/dist-packages (9.3.0)\n",
      "Requirement already satisfied: chardet in /usr/local/lib/python3.11/dist-packages (from music21) (5.2.0)\n",
      "Requirement already satisfied: joblib in /usr/local/lib/python3.11/dist-packages (from music21) (1.5.1)\n",
      "Requirement already satisfied: jsonpickle in /usr/local/lib/python3.11/dist-packages (from music21) (4.1.1)\n",
      "Requirement already satisfied: matplotlib in /usr/local/lib/python3.11/dist-packages (from music21) (3.10.0)\n",
      "Requirement already satisfied: more-itertools in /usr/local/lib/python3.11/dist-packages (from music21) (10.7.0)\n",
      "Requirement already satisfied: numpy in /usr/local/lib/python3.11/dist-packages (from music21) (2.0.2)\n",
      "Requirement already satisfied: requests in /usr/local/lib/python3.11/dist-packages (from music21) (2.32.3)\n",
      "Requirement already satisfied: webcolors>=1.5 in /usr/local/lib/python3.11/dist-packages (from music21) (24.11.1)\n",
      "Requirement already satisfied: contourpy>=1.0.1 in /usr/local/lib/python3.11/dist-packages (from matplotlib->music21) (1.3.2)\n",
      "Requirement already satisfied: cycler>=0.10 in /usr/local/lib/python3.11/dist-packages (from matplotlib->music21) (0.12.1)\n",
      "Requirement already satisfied: fonttools>=4.22.0 in /usr/local/lib/python3.11/dist-packages (from matplotlib->music21) (4.58.5)\n",
      "Requirement already satisfied: kiwisolver>=1.3.1 in /usr/local/lib/python3.11/dist-packages (from matplotlib->music21) (1.4.8)\n",
      "Requirement already satisfied: packaging>=20.0 in /usr/local/lib/python3.11/dist-packages (from matplotlib->music21) (24.2)\n",
      "Requirement already satisfied: pillow>=8 in /usr/local/lib/python3.11/dist-packages (from matplotlib->music21) (11.2.1)\n",
      "Requirement already satisfied: pyparsing>=2.3.1 in /usr/local/lib/python3.11/dist-packages (from matplotlib->music21) (3.2.3)\n",
      "Requirement already satisfied: python-dateutil>=2.7 in /usr/local/lib/python3.11/dist-packages (from matplotlib->music21) (2.9.0.post0)\n",
      "Requirement already satisfied: charset-normalizer<4,>=2 in /usr/local/lib/python3.11/dist-packages (from requests->music21) (3.4.2)\n",
      "Requirement already satisfied: idna<4,>=2.5 in /usr/local/lib/python3.11/dist-packages (from requests->music21) (3.10)\n",
      "Requirement already satisfied: urllib3<3,>=1.21.1 in /usr/local/lib/python3.11/dist-packages (from requests->music21) (2.4.0)\n",
      "Requirement already satisfied: certifi>=2017.4.17 in /usr/local/lib/python3.11/dist-packages (from requests->music21) (2025.7.9)\n",
      "Requirement already satisfied: six>=1.5 in /usr/local/lib/python3.11/dist-packages (from python-dateutil>=2.7->matplotlib->music21) (1.17.0)\n",
      "78\n"
     ]
    }
   ],
   "source": [
    "%pip install music21\n",
    "\n",
    "import music21 as m21 #  import midi, note, chord, stream, scale\n",
    "from random import randint, uniform\n",
    "\n",
    "s = m21.stream.Stream()\n",
    "\n",
    "# optional scale\n",
    "sc1 = m21.scale.MinorScale('a')\n",
    "minorScale = sc1.getPitches('c1', 'c#12', direction=m21.scale.Direction.ASCENDING)\n",
    "print(len(minorScale))\n",
    "\n",
    "# simplify the syntax\n",
    "def add_fixed_note(pitch, length=1, vel=80):\n",
    "  newNote = m21.note.Note(pitch)\n",
    "  newNote.volume.velocity = vel\n",
    "  newNote.duration.quarterLength = length\n",
    "  s.append([newNote])\n",
    "\n",
    "def add_note(degree, length=1, vel=80):\n",
    "  if isinstance(degree, list):\n",
    "    add_chord(degree, length, vel)\n",
    "  else:\n",
    "\n",
    "    if degree >= len(minorScale):\n",
    "      degree = len(minorScale) - 1\n",
    "      print(\"degree of scale has been capped as it is higher than the highest note\")\n",
    "\n",
    "    if degree < 0:\n",
    "      degree = 0\n",
    "\n",
    "    pitch = minorScale[degree]\n",
    "    newNote = m21.note.Note(pitch)\n",
    "    newNote.volume.velocity = vel\n",
    "    newNote.duration.quarterLength = length\n",
    "    s.append([newNote])\n",
    "\n",
    "\n",
    "def add_chord(degrees, length=1, vel=80):\n",
    "  notes = [minorScale[d] for d in degrees]\n",
    "  newChord = m21.chord.Chord(notes)\n",
    "  newChord.volume.velocity = vel\n",
    "  newChord.duration.quarterLength = length\n",
    "  s.append([newChord])\n",
    "\n",
    "\n",
    "def clip(inVal, minVal, maxVal):\n",
    "  return max(min(inVal, maxVal), minVal)\n"
   ]
  },
  {
   "cell_type": "markdown",
   "id": "wzs-pzcXT03S",
   "metadata": {
    "id": "wzs-pzcXT03S"
   },
   "source": [
    "# Making music - first steps"
   ]
  },
  {
   "cell_type": "markdown",
   "id": "DjnUwlFeU2a6",
   "metadata": {
    "id": "DjnUwlFeU2a6"
   },
   "source": [
    "## 1. Adding Notes"
   ]
  },
  {
   "cell_type": "markdown",
   "id": "KX_oh-JJU5cK",
   "metadata": {
    "id": "KX_oh-JJU5cK"
   },
   "source": [
    "### 1.1 Adding a single note"
   ]
  },
  {
   "cell_type": "code",
   "execution_count": null,
   "id": "Jluxc0QQUFvb",
   "metadata": {
    "colab": {
     "base_uri": "https://localhost:8080/",
     "height": 134
    },
    "executionInfo": {
     "elapsed": 45,
     "status": "ok",
     "timestamp": 1752661284258,
     "user": {
      "displayName": "Tom Mudd",
      "userId": "17702228794484531571"
     },
     "user_tz": -60
    },
    "id": "Jluxc0QQUFvb",
    "outputId": "d6aa068d-d92d-4080-e9f1-014353ee5c08"
   },
   "outputs": [
    {
     "data": {
      "text/html": [
       "\n",
       "        <div id=\"midiPlayerDiv13\"></div>\n",
       "        <link rel=\"stylesheet\" href=\"https://cuthbertLab.github.io/music21j/css/m21.css\">\n",
       "        \n",
       "        <script\n",
       "        src=\"https://cdnjs.cloudflare.com/ajax/libs/require.js/2.3.6/require.min.js\"\n",
       "        ></script>\n",
       "    \n",
       "        <script>\n",
       "        function midiPlayerDiv13_play() {\n",
       "            const rq = require.config({\n",
       "                paths: {\n",
       "                    'music21': 'https://cuthbertLab.github.io/music21j/releases/music21.debug',\n",
       "                }\n",
       "            });\n",
       "            rq(['music21'], function(music21) {\n",
       "                mp = new music21.miditools.MidiPlayer();\n",
       "                mp.addPlayer(\"#midiPlayerDiv13\");\n",
       "                mp.base64Load(\"data:audio/midi;base64,TVRoZAAAAAYAAQACJ2BNVHJrAAAAFAD/UQMHoSAA/1gEBAIYCM5g/y8ATVRyawAAABcA/wMAAOAAQM5gkBhQzmCAGADOYP8vAA==\");\n",
       "            });\n",
       "        }\n",
       "        if (typeof require === 'undefined') {\n",
       "            setTimeout(midiPlayerDiv13_play, 2000);\n",
       "        } else {\n",
       "            midiPlayerDiv13_play();\n",
       "        }\n",
       "        </script>"
      ],
      "text/plain": [
       "<IPython.core.display.HTML object>"
      ]
     },
     "metadata": {},
     "output_type": "display_data"
    }
   ],
   "source": [
    "# make sure our stream of notes is empty:\n",
    "s.clear()\n",
    "\n",
    "# add a single note (0 is very low)\n",
    "add_note(0)\n",
    "\n",
    "# output the midi stream so we can play it\n",
    "s.show('midi')"
   ]
  },
  {
   "cell_type": "markdown",
   "id": "ef3D0RguVkHJ",
   "metadata": {
    "id": "ef3D0RguVkHJ"
   },
   "source": [
    "### 1.2 Adding multiple notes"
   ]
  },
  {
   "cell_type": "code",
   "execution_count": 3,
   "id": "SzX8S_54ViIm",
   "metadata": {
    "colab": {
     "base_uri": "https://localhost:8080/",
     "height": 134
    },
    "executionInfo": {
     "elapsed": 13,
     "status": "ok",
     "timestamp": 1752661288180,
     "user": {
      "displayName": "Tom Mudd",
      "userId": "17702228794484531571"
     },
     "user_tz": -60
    },
    "id": "SzX8S_54ViIm",
    "outputId": "31953898-1c09-4759-fc3f-b36e12f68244"
   },
   "outputs": [
    {
     "data": {
      "text/html": [
       "\n",
       "        <div id=\"midiPlayerDiv47\"></div>\n",
       "        <link rel=\"stylesheet\" href=\"https://cuthbertLab.github.io/music21j/css/m21.css\">\n",
       "        \n",
       "        <script\n",
       "        src=\"https://cdnjs.cloudflare.com/ajax/libs/require.js/2.3.6/require.min.js\"\n",
       "        ></script>\n",
       "    \n",
       "        <script>\n",
       "        function midiPlayerDiv47_play() {\n",
       "            const rq = require.config({\n",
       "                paths: {\n",
       "                    'music21': 'https://cuthbertLab.github.io/music21j/releases/music21.debug',\n",
       "                }\n",
       "            });\n",
       "            rq(['music21'], function(music21) {\n",
       "                mp = new music21.miditools.MidiPlayer();\n",
       "                mp.addPlayer(\"#midiPlayerDiv47\");\n",
       "                mp.base64Load(\"data:audio/midi;base64,TVRoZAAAAAYAAQACJ2BNVHJrAAAAFAD/UQMHoSAA/1gEBAIYCM5g/y8ATVRyawAAADsA/wMAAOAAQM5gkClQzmCAKQAAkCtQzmCAKwAAkC1QzmCALQAAkCtQzmCAKwAAkClQzmCAKQDOYP8vAA==\");\n",
       "            });\n",
       "        }\n",
       "        if (typeof require === 'undefined') {\n",
       "            setTimeout(midiPlayerDiv47_play, 2000);\n",
       "        } else {\n",
       "            midiPlayerDiv47_play();\n",
       "        }\n",
       "        </script>"
      ],
      "text/plain": [
       "<IPython.core.display.HTML object>"
      ]
     },
     "metadata": {},
     "output_type": "display_data"
    }
   ],
   "source": [
    "# make sure our stream of notes is empty:\n",
    "s.clear()\n",
    "\n",
    "# add several notes by calling add_note() several times with diffent note values:\n",
    "add_note(10)\n",
    "add_note(11)\n",
    "add_note(12)\n",
    "add_note(11)\n",
    "add_note(10)\n",
    "\n",
    "# output the midi stream so we can play it\n",
    "s.show('midi')"
   ]
  },
  {
   "cell_type": "markdown",
   "id": "M38yDDkHWCc0",
   "metadata": {
    "id": "M38yDDkHWCc0"
   },
   "source": [
    "### 1.3 Adding notes of different length and different volumes"
   ]
  },
  {
   "cell_type": "code",
   "execution_count": 4,
   "id": "8JMNpJbzWGyX",
   "metadata": {
    "colab": {
     "base_uri": "https://localhost:8080/",
     "height": 134
    },
    "executionInfo": {
     "elapsed": 26,
     "status": "ok",
     "timestamp": 1752661297113,
     "user": {
      "displayName": "Tom Mudd",
      "userId": "17702228794484531571"
     },
     "user_tz": -60
    },
    "id": "8JMNpJbzWGyX",
    "outputId": "dcaf94d5-7471-42b6-a718-884a31b24067"
   },
   "outputs": [
    {
     "data": {
      "text/html": [
       "\n",
       "        <div id=\"midiPlayerDiv81\"></div>\n",
       "        <link rel=\"stylesheet\" href=\"https://cuthbertLab.github.io/music21j/css/m21.css\">\n",
       "        \n",
       "        <script\n",
       "        src=\"https://cdnjs.cloudflare.com/ajax/libs/require.js/2.3.6/require.min.js\"\n",
       "        ></script>\n",
       "    \n",
       "        <script>\n",
       "        function midiPlayerDiv81_play() {\n",
       "            const rq = require.config({\n",
       "                paths: {\n",
       "                    'music21': 'https://cuthbertLab.github.io/music21j/releases/music21.debug',\n",
       "                }\n",
       "            });\n",
       "            rq(['music21'], function(music21) {\n",
       "                mp = new music21.miditools.MidiPlayer();\n",
       "                mp.addPlayer(\"#midiPlayerDiv81\");\n",
       "                mp.base64Load(\"data:audio/midi;base64,TVRoZAAAAAYAAQACJ2BNVHJrAAAAFAD/UQMHoSAA/1gEBAIYCM5g/y8ATVRyawAAAD0A/wMAAOAAQM5gkDxkgZ1AgDwAAJA0MqcwgDQAAJAyMqcwgDIAAJAwMqcwgDAAAJAvMoK7AIAvAM5g/y8A\");\n",
       "            });\n",
       "        }\n",
       "        if (typeof require === 'undefined') {\n",
       "            setTimeout(midiPlayerDiv81_play, 2000);\n",
       "        } else {\n",
       "            midiPlayerDiv81_play();\n",
       "        }\n",
       "        </script>"
      ],
      "text/plain": [
       "<IPython.core.display.HTML object>"
      ]
     },
     "metadata": {},
     "output_type": "display_data"
    }
   ],
   "source": [
    "# make sure our stream of notes is empty:\n",
    "s.clear()\n",
    "\n",
    "# add one long loud note\n",
    "add_note(21, length=2, vel=100)\n",
    "\n",
    "# add three short quieter notes\n",
    "add_note(16, 0.5, 50)\n",
    "add_note(15, 0.5, 50)\n",
    "add_note(14, 0.5, 50)\n",
    "\n",
    "# add one long final note\n",
    "add_note(13, 4, 50)\n",
    "\n",
    "s.show('midi')"
   ]
  },
  {
   "cell_type": "markdown",
   "id": "Zbz2c3HVWxLK",
   "metadata": {
    "id": "Zbz2c3HVWxLK"
   },
   "source": [
    "### 1.4 Adding random notes with randint()"
   ]
  },
  {
   "cell_type": "code",
   "execution_count": 5,
   "id": "5eOrpo0QWv8A",
   "metadata": {
    "colab": {
     "base_uri": "https://localhost:8080/",
     "height": 169
    },
    "executionInfo": {
     "elapsed": 18,
     "status": "ok",
     "timestamp": 1752661304227,
     "user": {
      "displayName": "Tom Mudd",
      "userId": "17702228794484531571"
     },
     "user_tz": -60
    },
    "id": "5eOrpo0QWv8A",
    "outputId": "c52e83d4-b23f-416c-acd6-e8ea09f4e40c"
   },
   "outputs": [
    {
     "name": "stdout",
     "output_type": "stream",
     "text": [
      "first note is 29\n",
      "second note is 19\n"
     ]
    },
    {
     "data": {
      "text/html": [
       "\n",
       "        <div id=\"midiPlayerDiv105\"></div>\n",
       "        <link rel=\"stylesheet\" href=\"https://cuthbertLab.github.io/music21j/css/m21.css\">\n",
       "        \n",
       "        <script\n",
       "        src=\"https://cdnjs.cloudflare.com/ajax/libs/require.js/2.3.6/require.min.js\"\n",
       "        ></script>\n",
       "    \n",
       "        <script>\n",
       "        function midiPlayerDiv105_play() {\n",
       "            const rq = require.config({\n",
       "                paths: {\n",
       "                    'music21': 'https://cuthbertLab.github.io/music21j/releases/music21.debug',\n",
       "                }\n",
       "            });\n",
       "            rq(['music21'], function(music21) {\n",
       "                mp = new music21.miditools.MidiPlayer();\n",
       "                mp.addPlayer(\"#midiPlayerDiv105\");\n",
       "                mp.base64Load(\"data:audio/midi;base64,TVRoZAAAAAYAAQACJ2BNVHJrAAAAFAD/UQMHoSAA/1gEBAIYCM5g/y8ATVRyawAAACoA/wMAAOAAQM5gkEpQzmCASgAAkDlQzmCAOQAAkDJQgZ1AgDIAzmD/LwA=\");\n",
       "            });\n",
       "        }\n",
       "        if (typeof require === 'undefined') {\n",
       "            setTimeout(midiPlayerDiv105_play, 2000);\n",
       "        } else {\n",
       "            midiPlayerDiv105_play();\n",
       "        }\n",
       "        </script>"
      ],
      "text/plain": [
       "<IPython.core.display.HTML object>"
      ]
     },
     "metadata": {},
     "output_type": "display_data"
    }
   ],
   "source": [
    "# Try running this a few times to hear how the randomness makes things change\n",
    "s.clear()\n",
    "\n",
    "# we can use randint(low, high) to get a number between the values of \"low\" and \"high\", e.g.\n",
    "\n",
    "# create a random number between 10 and 20 (inclusive)\n",
    "# then store it in a variable called \"note\"\n",
    "note = randint(20, 30)\n",
    "print(\"first note is\", note)  # print it so we can see what it is\n",
    "add_note(note)                   # add it to the midi stream\n",
    "\n",
    "\n",
    "note = randint(10, 20)          # random number between 5 and 10 (inclusive)\n",
    "print(\"second note is\", note)  # print it so we can see what it is\n",
    "add_note(note)\n",
    "\n",
    "add_note(15, length=2)           # a fixed final note (not random!)\n",
    "\n",
    "s.show('midi')"
   ]
  },
  {
   "cell_type": "markdown",
   "id": "dTOG3oSgZeK7",
   "metadata": {
    "id": "dTOG3oSgZeK7"
   },
   "source": [
    "### 1.5 Adding chords"
   ]
  },
  {
   "cell_type": "code",
   "execution_count": 6,
   "id": "YAoxU9tEZd2W",
   "metadata": {
    "colab": {
     "base_uri": "https://localhost:8080/",
     "height": 134
    },
    "executionInfo": {
     "elapsed": 16,
     "status": "ok",
     "timestamp": 1752661321046,
     "user": {
      "displayName": "Tom Mudd",
      "userId": "17702228794484531571"
     },
     "user_tz": -60
    },
    "id": "YAoxU9tEZd2W",
    "outputId": "c9ceec4b-e2e0-424b-a432-63163090fc95"
   },
   "outputs": [
    {
     "data": {
      "text/html": [
       "\n",
       "        <div id=\"midiPlayerDiv129\"></div>\n",
       "        <link rel=\"stylesheet\" href=\"https://cuthbertLab.github.io/music21j/css/m21.css\">\n",
       "        \n",
       "        <script\n",
       "        src=\"https://cdnjs.cloudflare.com/ajax/libs/require.js/2.3.6/require.min.js\"\n",
       "        ></script>\n",
       "    \n",
       "        <script>\n",
       "        function midiPlayerDiv129_play() {\n",
       "            const rq = require.config({\n",
       "                paths: {\n",
       "                    'music21': 'https://cuthbertLab.github.io/music21j/releases/music21.debug',\n",
       "                }\n",
       "            });\n",
       "            rq(['music21'], function(music21) {\n",
       "                mp = new music21.miditools.MidiPlayer();\n",
       "                mp.addPlayer(\"#midiPlayerDiv129\");\n",
       "                mp.base64Load(\"data:audio/midi;base64,TVRoZAAAAAYAAQACJ2BNVHJrAAAAFAD/UQMHoSAA/1gEBAIYCM5g/y8ATVRyawAAAGIA/wMAAOAAQM5gkDxQAJBAUACQQ1DOYIA8AACAQAAAgEMAAJBHUACQSFAAkDtQAJA+UM5ggEcAAIBIAACAOwAAgD4AAJA8UACQQFAAkENQgZ1AgDwAAIBAAACAQwDOYP8vAA==\");\n",
       "            });\n",
       "        }\n",
       "        if (typeof require === 'undefined') {\n",
       "            setTimeout(midiPlayerDiv129_play, 2000);\n",
       "        } else {\n",
       "            midiPlayerDiv129_play();\n",
       "        }\n",
       "        </script>"
      ],
      "text/plain": [
       "<IPython.core.display.HTML object>"
      ]
     },
     "metadata": {},
     "output_type": "display_data"
    }
   ],
   "source": [
    "# Create a chord with multiple notes at the same time\n",
    "s.clear()\n",
    "\n",
    "# we can use the square brackets to define a 'list'\n",
    "chord1 = [21, 23, 25]\n",
    "\n",
    "# a list will create a chord from add_note:\n",
    "add_note(chord1)\n",
    "\n",
    "# a chord with four random notes!\n",
    "chord2 = [randint(20, 30), randint(20, 30), randint(20, 30), randint(20, 30)]\n",
    "add_note(chord2)\n",
    "\n",
    "# play the first chord again\n",
    "add_note(chord1, length=2)\n",
    "\n",
    "s.show('midi')\n"
   ]
  },
  {
   "cell_type": "markdown",
   "id": "xuT0QJvybiYd",
   "metadata": {
    "id": "xuT0QJvybiYd"
   },
   "source": [
    "### 1.6 EXERCISE: Now you try\n",
    "Explore some of the above processes to create a short piece or fragment of music in the code block below.\n",
    "\n",
    "Some things to think about:\n",
    " - can you create a satisfying mix of notes and chords?\n",
    " - how might you use randomness in an interesting way?\n",
    " - how will you use the length parameter in interesting ways?\n",
    " - how will you use the vel parameter (volume) in interesting ways?"
   ]
  },
  {
   "cell_type": "code",
   "execution_count": null,
   "id": "k__AwXe4biLd",
   "metadata": {
    "colab": {
     "base_uri": "https://localhost:8080/",
     "height": 134
    },
    "executionInfo": {
     "elapsed": 15,
     "status": "ok",
     "timestamp": 1748525318199,
     "user": {
      "displayName": "Mike Taverne",
      "userId": "05638069109318751735"
     },
     "user_tz": -60
    },
    "id": "k__AwXe4biLd",
    "outputId": "8b627c76-7548-4265-ad93-c1de3dbedd5d"
   },
   "outputs": [
    {
     "data": {
      "text/html": [
       "\n",
       "        <div id=\"midiPlayerDiv147\"></div>\n",
       "        <link rel=\"stylesheet\" href=\"https://cuthbertLab.github.io/music21j/css/m21.css\">\n",
       "        \n",
       "        <script\n",
       "        src=\"https://cdnjs.cloudflare.com/ajax/libs/require.js/2.3.6/require.min.js\"\n",
       "        ></script>\n",
       "    \n",
       "        <script>\n",
       "        function midiPlayerDiv147_play() {\n",
       "            const rq = require.config({\n",
       "                paths: {\n",
       "                    'music21': 'https://cuthbertLab.github.io/music21j/releases/music21.debug',\n",
       "                }\n",
       "            });\n",
       "            rq(['music21'], function(music21) {\n",
       "                mp = new music21.miditools.MidiPlayer();\n",
       "                mp.addPlayer(\"#midiPlayerDiv147\");\n",
       "                mp.base64Load(\"data:audio/midi;base64,TVRoZAAAAAYAAQACJ2BNVHJrAAAAFAD/UQMHoSAA/1gEBAIYCM5g/y8ATVRyawAAAAkA/wMAzmD/LwA=\");\n",
       "            });\n",
       "        }\n",
       "        if (typeof require === 'undefined') {\n",
       "            setTimeout(midiPlayerDiv147_play, 2000);\n",
       "        } else {\n",
       "            midiPlayerDiv147_play();\n",
       "        }\n",
       "        </script>"
      ],
      "text/plain": [
       "<IPython.core.display.HTML object>"
      ]
     },
     "metadata": {},
     "output_type": "display_data"
    }
   ],
   "source": [
    "s.clear()       # clear the stream before starting\n",
    "\n",
    "# Exercise 1.6\n",
    "# Try things out in this code block (above the s.show('midi) line)\n",
    "\n",
    "## YOUR CODE BELOW HERE\n",
    "\n",
    "\n",
    "\n",
    "## YOUR CODE ABOVE HERE\n",
    "\n",
    "s.show('midi')  # output the midi (this should be the final line in this cell)"
   ]
  },
  {
   "cell_type": "markdown",
   "id": "8sd91J1t1DZq",
   "metadata": {
    "id": "8sd91J1t1DZq"
   },
   "source": [
    "## A Note about notes\n",
    "In the examples so far, we have been choosing notes from an existing scale, e.g.\n",
    " - add_note(0) is a C\n",
    " - add_note(1) is a D, the second note of a C major scale\n",
    " - add_note(2) is an E,\n",
    " - ...\n",
    "\n",
    "This means everything sounds to some extent as though it fits, but it means we are limited in terms of the notes we can choose. How can we play an Eb, or a G#?\n",
    "\n",
    "`add_note()` is one function created at the top (you can see the definition in the first code cell on this page).\n",
    "\n",
    "`add_fixed_note()` is another function, that doesn't snap to a particular scale\n",
    "\n",
    "The two functions are very similar, e.g. you might use the function like this: `add_fixed_note(60, 1, 100)`, where\n",
    " - 60 is the pitch\n",
    " - 1 is the length\n",
    " - 100 is the volume\n",
    "\n",
    "The important thing to remember is that the pitch information now works differently. With add_fixed_note(), 60 means \"middle C\" on a piano. 61 is a C#. 62 is a D.\n",
    "\n",
    "You can explore the different in the examples below. Feel free to use either in your work for the challenges below!"
   ]
  },
  {
   "cell_type": "code",
   "execution_count": 33,
   "id": "hIqeJ6Fr18E9",
   "metadata": {
    "colab": {
     "base_uri": "https://localhost:8080/",
     "height": 134
    },
    "executionInfo": {
     "elapsed": 17,
     "status": "ok",
     "timestamp": 1752663057737,
     "user": {
      "displayName": "Tom Mudd",
      "userId": "17702228794484531571"
     },
     "user_tz": -60
    },
    "id": "hIqeJ6Fr18E9",
    "outputId": "f0d1f5b4-512f-4014-b808-18452f704ec8"
   },
   "outputs": [
    {
     "data": {
      "text/html": [
       "\n",
       "        <div id=\"midiPlayerDiv2767\"></div>\n",
       "        <link rel=\"stylesheet\" href=\"https://cuthbertLab.github.io/music21j/css/m21.css\">\n",
       "        \n",
       "        <script\n",
       "        src=\"https://cdnjs.cloudflare.com/ajax/libs/require.js/2.3.6/require.min.js\"\n",
       "        ></script>\n",
       "    \n",
       "        <script>\n",
       "        function midiPlayerDiv2767_play() {\n",
       "            const rq = require.config({\n",
       "                paths: {\n",
       "                    'music21': 'https://cuthbertLab.github.io/music21j/releases/music21.debug',\n",
       "                }\n",
       "            });\n",
       "            rq(['music21'], function(music21) {\n",
       "                mp = new music21.miditools.MidiPlayer();\n",
       "                mp.addPlayer(\"#midiPlayerDiv2767\");\n",
       "                mp.base64Load(\"data:audio/midi;base64,TVRoZAAAAAYAAQACJ2BNVHJrAAAAFAD/UQMHoSAA/1gEBAIYCM5g/y8ATVRyawAAAFYA/wMAAOAAQM5gkBhQzmCAGAAAkBpQzmCAGgAAkBxQzmCAHAAAkB1QzmCAHQAAkB9QzmCAHwAAkCFQzmCAIQAAkCNQzmCAIwAAkCRQzmCAJADOYP8vAA==\");\n",
       "            });\n",
       "        }\n",
       "        if (typeof require === 'undefined') {\n",
       "            setTimeout(midiPlayerDiv2767_play, 2000);\n",
       "        } else {\n",
       "            midiPlayerDiv2767_play();\n",
       "        }\n",
       "        </script>"
      ],
      "text/plain": [
       "<IPython.core.display.HTML object>"
      ]
     },
     "metadata": {},
     "output_type": "display_data"
    }
   ],
   "source": [
    "# consecutive pitch numbers with add_note()\n",
    "\n",
    "s.clear()\n",
    "\n",
    "add_note(0)\n",
    "add_note(1)\n",
    "add_note(2)\n",
    "add_note(3)\n",
    "add_note(4)\n",
    "add_note(5)\n",
    "add_note(6)\n",
    "add_note(7)\n",
    "\n",
    "s.show('midi')"
   ]
  },
  {
   "cell_type": "code",
   "execution_count": 32,
   "id": "feyoQ9ci2uJF",
   "metadata": {
    "colab": {
     "base_uri": "https://localhost:8080/",
     "height": 134
    },
    "executionInfo": {
     "elapsed": 12,
     "status": "ok",
     "timestamp": 1752663048728,
     "user": {
      "displayName": "Tom Mudd",
      "userId": "17702228794484531571"
     },
     "user_tz": -60
    },
    "id": "feyoQ9ci2uJF",
    "outputId": "ecb35b65-cd41-4b37-a38a-0f8ad23a5d09"
   },
   "outputs": [
    {
     "data": {
      "text/html": [
       "\n",
       "        <div id=\"midiPlayerDiv2718\"></div>\n",
       "        <link rel=\"stylesheet\" href=\"https://cuthbertLab.github.io/music21j/css/m21.css\">\n",
       "        \n",
       "        <script\n",
       "        src=\"https://cdnjs.cloudflare.com/ajax/libs/require.js/2.3.6/require.min.js\"\n",
       "        ></script>\n",
       "    \n",
       "        <script>\n",
       "        function midiPlayerDiv2718_play() {\n",
       "            const rq = require.config({\n",
       "                paths: {\n",
       "                    'music21': 'https://cuthbertLab.github.io/music21j/releases/music21.debug',\n",
       "                }\n",
       "            });\n",
       "            rq(['music21'], function(music21) {\n",
       "                mp = new music21.miditools.MidiPlayer();\n",
       "                mp.addPlayer(\"#midiPlayerDiv2718\");\n",
       "                mp.base64Load(\"data:audio/midi;base64,TVRoZAAAAAYAAQACJ2BNVHJrAAAAFAD/UQMHoSAA/1gEBAIYCM5g/y8ATVRyawAAAFYA/wMAAOAAQM5gkBhQzmCAGAAAkBlQzmCAGQAAkBpQzmCAGgAAkBtQzmCAGwAAkBxQzmCAHAAAkB1QzmCAHQAAkB5QzmCAHgAAkB9QzmCAHwDOYP8vAA==\");\n",
       "            });\n",
       "        }\n",
       "        if (typeof require === 'undefined') {\n",
       "            setTimeout(midiPlayerDiv2718_play, 2000);\n",
       "        } else {\n",
       "            midiPlayerDiv2718_play();\n",
       "        }\n",
       "        </script>"
      ],
      "text/plain": [
       "<IPython.core.display.HTML object>"
      ]
     },
     "metadata": {},
     "output_type": "display_data"
    }
   ],
   "source": [
    "# consecutive pitch numbers with add_fixed_note()\n",
    "\n",
    "s.clear()\n",
    "\n",
    "add_fixed_note(24)\n",
    "add_fixed_note(25)\n",
    "add_fixed_note(26)\n",
    "add_fixed_note(27)\n",
    "add_fixed_note(28)\n",
    "add_fixed_note(29)\n",
    "add_fixed_note(30)\n",
    "add_fixed_note(31)\n",
    "\n",
    "s.show('midi')"
   ]
  },
  {
   "cell_type": "markdown",
   "id": "W5z652LhT6tf",
   "metadata": {
    "id": "W5z652LhT6tf"
   },
   "source": [
    "## 2. Creating music with loops\n"
   ]
  },
  {
   "cell_type": "markdown",
   "id": "Vj15EYQacOOP",
   "metadata": {
    "id": "Vj15EYQacOOP"
   },
   "source": [
    "### 2.1 A simple \"for loop\""
   ]
  },
  {
   "cell_type": "code",
   "execution_count": 9,
   "id": "8XCh6p8hT_ik",
   "metadata": {
    "colab": {
     "base_uri": "https://localhost:8080/",
     "height": 308
    },
    "executionInfo": {
     "elapsed": 43,
     "status": "ok",
     "timestamp": 1752661465795,
     "user": {
      "displayName": "Tom Mudd",
      "userId": "17702228794484531571"
     },
     "user_tz": -60
    },
    "id": "8XCh6p8hT_ik",
    "outputId": "f555d183-4990-4c45-e2c5-a3bea6b0289d"
   },
   "outputs": [
    {
     "name": "stdout",
     "output_type": "stream",
     "text": [
      "note:  0 39\n",
      "note:  1 30\n",
      "note:  2 39\n",
      "note:  3 31\n",
      "note:  4 30\n",
      "note:  5 33\n",
      "note:  6 39\n",
      "note:  7 33\n",
      "note:  8 36\n",
      "note:  9 34\n"
     ]
    },
    {
     "data": {
      "text/html": [
       "\n",
       "        <div id=\"midiPlayerDiv306\"></div>\n",
       "        <link rel=\"stylesheet\" href=\"https://cuthbertLab.github.io/music21j/css/m21.css\">\n",
       "        \n",
       "        <script\n",
       "        src=\"https://cdnjs.cloudflare.com/ajax/libs/require.js/2.3.6/require.min.js\"\n",
       "        ></script>\n",
       "    \n",
       "        <script>\n",
       "        function midiPlayerDiv306_play() {\n",
       "            const rq = require.config({\n",
       "                paths: {\n",
       "                    'music21': 'https://cuthbertLab.github.io/music21j/releases/music21.debug',\n",
       "                }\n",
       "            });\n",
       "            rq(['music21'], function(music21) {\n",
       "                mp = new music21.miditools.MidiPlayer();\n",
       "                mp.addPlayer(\"#midiPlayerDiv306\");\n",
       "                mp.base64Load(\"data:audio/midi;base64,TVRoZAAAAAYAAQACJ2BNVHJrAAAAFAD/UQMHoSAA/1gEBAIYCM5g/y8ATVRyawAAAGgA/wMAAOAAQM5gkFtQk1iAWwAAkExQk1iATAAAkFtQk1iAWwAAkE1Qk1iATQAAkExQk1iATAAAkFFQk1iAUQAAkFtQk1iAWwAAkFFQk1iAUQAAkFZQk1iAVgAAkFNQk1iAUwDOYP8vAA==\");\n",
       "            });\n",
       "        }\n",
       "        if (typeof require === 'undefined') {\n",
       "            setTimeout(midiPlayerDiv306_play, 2000);\n",
       "        } else {\n",
       "            midiPlayerDiv306_play();\n",
       "        }\n",
       "        </script>"
      ],
      "text/plain": [
       "<IPython.core.display.HTML object>"
      ]
     },
     "metadata": {},
     "output_type": "display_data"
    }
   ],
   "source": [
    "s.clear()\n",
    "\n",
    "# we can use the \"for loop\" to create lots of notes with just a few lines\n",
    "\n",
    "# this is a 10 step loop\n",
    "for i in range(10):\n",
    "\n",
    "  # the indented code here runs 10 times, so we end up with 10 random notes\n",
    "\n",
    "  # create a random note\n",
    "  note = randint(30, 40)\n",
    "\n",
    "  # display the iteration number (0-9) and the random note\n",
    "  print(\"note: \", i, note)\n",
    "\n",
    "  # add it to our midi stream\n",
    "  add_note(note, length=0.25)\n",
    "\n",
    "s.show('midi')"
   ]
  },
  {
   "cell_type": "markdown",
   "id": "97gEc4Hucffs",
   "metadata": {
    "id": "97gEc4Hucffs"
   },
   "source": [
    "Another example, this time, randomising the volume and duration of the notes as well as the pitch, 10 times\n",
    "\n",
    "Try experimenting with some of the values, e.g. the range, randint values, etc."
   ]
  },
  {
   "cell_type": "code",
   "execution_count": 10,
   "id": "iD0wP6S8xK-I",
   "metadata": {
    "colab": {
     "base_uri": "https://localhost:8080/",
     "height": 134
    },
    "executionInfo": {
     "elapsed": 12,
     "status": "ok",
     "timestamp": 1752661480428,
     "user": {
      "displayName": "Tom Mudd",
      "userId": "17702228794484531571"
     },
     "user_tz": -60
    },
    "id": "iD0wP6S8xK-I",
    "outputId": "893d1680-705c-4db1-e1ed-b1adbe7d34cc"
   },
   "outputs": [
    {
     "data": {
      "text/html": [
       "\n",
       "        <div id=\"midiPlayerDiv365\"></div>\n",
       "        <link rel=\"stylesheet\" href=\"https://cuthbertLab.github.io/music21j/css/m21.css\">\n",
       "        \n",
       "        <script\n",
       "        src=\"https://cdnjs.cloudflare.com/ajax/libs/require.js/2.3.6/require.min.js\"\n",
       "        ></script>\n",
       "    \n",
       "        <script>\n",
       "        function midiPlayerDiv365_play() {\n",
       "            const rq = require.config({\n",
       "                paths: {\n",
       "                    'music21': 'https://cuthbertLab.github.io/music21j/releases/music21.debug',\n",
       "                }\n",
       "            });\n",
       "            rq(['music21'], function(music21) {\n",
       "                mp = new music21.miditools.MidiPlayer();\n",
       "                mp.addPlayer(\"#midiPlayerDiv365\");\n",
       "                mp.base64Load(\"data:audio/midi;base64,TVRoZAAAAAYAAQACJ2BNVHJrAAAAFAD/UQMHoSAA/1gEBAIYCM5g/y8ATVRyawAAAGgA/wMAAOAAQM5gkDRIuwiANAAAkDBNpzCAMAAAkCkzuwiAKQAAkDtIuwiAOwAAkC1ak1iALQAAkC1Ok1iALQAAkDtDzmCAOwAAkDQ/pzCANAAAkDRXzmCANAAAkDBjk1iAMADOYP8vAA==\");\n",
       "            });\n",
       "        }\n",
       "        if (typeof require === 'undefined') {\n",
       "            setTimeout(midiPlayerDiv365_play, 2000);\n",
       "        } else {\n",
       "            midiPlayerDiv365_play();\n",
       "        }\n",
       "        </script>"
      ],
      "text/plain": [
       "<IPython.core.display.HTML object>"
      ]
     },
     "metadata": {},
     "output_type": "display_data"
    }
   ],
   "source": [
    "s.clear()\n",
    "\n",
    "for i in range(10):\n",
    "  pitch = randint(10, 20)\n",
    "  length = randint(1, 4) * 0.25\n",
    "  volume = randint(40, 100)\n",
    "  add_note(pitch, length, volume)\n",
    "\n",
    "s.show('midi')"
   ]
  },
  {
   "cell_type": "markdown",
   "id": "seZwz96cczkV",
   "metadata": {
    "id": "seZwz96cczkV"
   },
   "source": [
    "### 2.2 Creating a fixed melody with a list"
   ]
  },
  {
   "cell_type": "code",
   "execution_count": null,
   "id": "Gnlpc6unczYI",
   "metadata": {
    "colab": {
     "base_uri": "https://localhost:8080/",
     "height": 134
    },
    "executionInfo": {
     "elapsed": 14,
     "status": "ok",
     "timestamp": 1748525338489,
     "user": {
      "displayName": "Mike Taverne",
      "userId": "05638069109318751735"
     },
     "user_tz": -60
    },
    "id": "Gnlpc6unczYI",
    "outputId": "546b6b39-ac9f-468d-8bf6-6747f92edb17"
   },
   "outputs": [
    {
     "data": {
      "text/html": [
       "\n",
       "        <div id=\"midiPlayerDiv319\"></div>\n",
       "        <link rel=\"stylesheet\" href=\"https://cuthbertLab.github.io/music21j/css/m21.css\">\n",
       "        \n",
       "        <script\n",
       "        src=\"https://cdnjs.cloudflare.com/ajax/libs/require.js/2.3.6/require.min.js\"\n",
       "        ></script>\n",
       "    \n",
       "        <script>\n",
       "        function midiPlayerDiv319_play() {\n",
       "            const rq = require.config({\n",
       "                paths: {\n",
       "                    'music21': 'https://cuthbertLab.github.io/music21j/releases/music21.debug',\n",
       "                }\n",
       "            });\n",
       "            rq(['music21'], function(music21) {\n",
       "                mp = new music21.miditools.MidiPlayer();\n",
       "                mp.addPlayer(\"#midiPlayerDiv319\");\n",
       "                mp.base64Load(\"data:audio/midi;base64,TVRoZAAAAAYAAQACJ2BNVHJrAAAAFAD/UQMHoSAA/1gEBAIYCM5g/y8ATVRyawAAAF8A/wMAAOAAQM5gkDsymh2AOwAAkEAymhyQOzIBgEAAmhyAOwAAkDwymh2APAAAkDsymhyQOTIBgDsAmhyAOQAAkDcymhyQOTIBgDcAmhyAOQAAkDsymh2AOwDOYP8vAA==\");\n",
       "            });\n",
       "        }\n",
       "        if (typeof require === 'undefined') {\n",
       "            setTimeout(midiPlayerDiv319_play, 2000);\n",
       "        } else {\n",
       "            midiPlayerDiv319_play();\n",
       "        }\n",
       "        </script>"
      ],
      "text/plain": [
       "<IPython.core.display.HTML object>"
      ]
     },
     "metadata": {},
     "output_type": "display_data"
    }
   ],
   "source": [
    "s.clear()\n",
    "\n",
    "# we can use the square bracket list that we saw above in 1.5 to create a series of notes as a melody\n",
    "# lists work very nicely with loops\n",
    "\n",
    "# listen to the output, then try changing some of these values for yourself\n",
    "melody = [20, 23, 20, 21, 20, 19, 18, 19, 20]\n",
    "\n",
    "# we use a different kind of for loop that goes through the list note-by-note\n",
    "for note in melody:\n",
    "  add_note(note, length=0.333, vel=50)\n",
    "\n",
    "s.show('midi')"
   ]
  },
  {
   "cell_type": "markdown",
   "id": "jqudvr0V4BT1",
   "metadata": {
    "id": "jqudvr0V4BT1"
   },
   "source": [
    "### 2.3 Selecting randomly from a melody"
   ]
  },
  {
   "cell_type": "code",
   "execution_count": 15,
   "id": "x6r9o6irRJ4Z",
   "metadata": {
    "colab": {
     "base_uri": "https://localhost:8080/",
     "height": 134
    },
    "executionInfo": {
     "elapsed": 6,
     "status": "ok",
     "timestamp": 1752661629726,
     "user": {
      "displayName": "Tom Mudd",
      "userId": "17702228794484531571"
     },
     "user_tz": -60
    },
    "id": "x6r9o6irRJ4Z",
    "outputId": "702c7799-fb55-4911-ae39-a18e3e4107a8"
   },
   "outputs": [
    {
     "data": {
      "text/html": [
       "\n",
       "        <div id=\"midiPlayerDiv463\"></div>\n",
       "        <link rel=\"stylesheet\" href=\"https://cuthbertLab.github.io/music21j/css/m21.css\">\n",
       "        \n",
       "        <script\n",
       "        src=\"https://cdnjs.cloudflare.com/ajax/libs/require.js/2.3.6/require.min.js\"\n",
       "        ></script>\n",
       "    \n",
       "        <script>\n",
       "        function midiPlayerDiv463_play() {\n",
       "            const rq = require.config({\n",
       "                paths: {\n",
       "                    'music21': 'https://cuthbertLab.github.io/music21j/releases/music21.debug',\n",
       "                }\n",
       "            });\n",
       "            rq(['music21'], function(music21) {\n",
       "                mp = new music21.miditools.MidiPlayer();\n",
       "                mp.addPlayer(\"#midiPlayerDiv463\");\n",
       "                mp.base64Load(\"data:audio/midi;base64,TVRoZAAAAAYAAQACJ2BNVHJrAAAAFAD/UQMHoSAA/1gEBAIYCM5g/y8ATVRyawAAACkA/wMAAOAAQM5gkDtQzmCAOwAAkD5QzmCAPgAAkExQzmCATADOYP8vAA==\");\n",
       "            });\n",
       "        }\n",
       "        if (typeof require === 'undefined') {\n",
       "            setTimeout(midiPlayerDiv463_play, 2000);\n",
       "        } else {\n",
       "            midiPlayerDiv463_play();\n",
       "        }\n",
       "        </script>"
      ],
      "text/plain": [
       "<IPython.core.display.HTML object>"
      ]
     },
     "metadata": {},
     "output_type": "display_data"
    }
   ],
   "source": [
    "s.clear()\n",
    "\n",
    "# We can also use lists as sets of notes that we can choose from\n",
    "\n",
    "# notes to choose from:\n",
    "melody = [20, 23, 20, 21, 20, 19, 18, 19, 20]\n",
    "\n",
    "# get the note at index 0 (i.e. the first note)\n",
    "note = notes[0]\n",
    "# add it to the stream\n",
    "add_note(note)\n",
    "\n",
    "# get the note at index 0 (i.e. the first note)\n",
    "note = notes[1]\n",
    "# add it to the stream\n",
    "add_note(note)\n",
    "\n",
    "# get a random note from the notes set\n",
    "note_index = randint(0, 8)    # create a random note between 0 and 6\n",
    "note = notes[note_index]      # use that random number to get the corresponding note from the list\n",
    "# add it to the stream\n",
    "add_note(note)\n",
    "\n",
    "\n",
    "s.show('midi')"
   ]
  },
  {
   "cell_type": "markdown",
   "id": "Ik5Xq9gdxS2t",
   "metadata": {
    "id": "Ik5Xq9gdxS2t"
   },
   "source": [
    "### 2.4 Selecting segments of a melody"
   ]
  },
  {
   "cell_type": "code",
   "execution_count": 18,
   "id": "jk-m7xoqxSgV",
   "metadata": {
    "colab": {
     "base_uri": "https://localhost:8080/",
     "height": 151
    },
    "executionInfo": {
     "elapsed": 39,
     "status": "ok",
     "timestamp": 1752661791125,
     "user": {
      "displayName": "Tom Mudd",
      "userId": "17702228794484531571"
     },
     "user_tz": -60
    },
    "id": "jk-m7xoqxSgV",
    "outputId": "f0eac378-003b-435b-8ff8-b5d0d1fb4ee4"
   },
   "outputs": [
    {
     "name": "stdout",
     "output_type": "stream",
     "text": [
      "[20, 21, 20]\n"
     ]
    },
    {
     "data": {
      "text/html": [
       "\n",
       "        <div id=\"midiPlayerDiv565\"></div>\n",
       "        <link rel=\"stylesheet\" href=\"https://cuthbertLab.github.io/music21j/css/m21.css\">\n",
       "        \n",
       "        <script\n",
       "        src=\"https://cdnjs.cloudflare.com/ajax/libs/require.js/2.3.6/require.min.js\"\n",
       "        ></script>\n",
       "    \n",
       "        <script>\n",
       "        function midiPlayerDiv565_play() {\n",
       "            const rq = require.config({\n",
       "                paths: {\n",
       "                    'music21': 'https://cuthbertLab.github.io/music21j/releases/music21.debug',\n",
       "                }\n",
       "            });\n",
       "            rq(['music21'], function(music21) {\n",
       "                mp = new music21.miditools.MidiPlayer();\n",
       "                mp.addPlayer(\"#midiPlayerDiv565\");\n",
       "                mp.base64Load(\"data:audio/midi;base64,TVRoZAAAAAYAAQACJ2BNVHJrAAAAFAD/UQMHoSAA/1gEBAIYCM5g/y8ATVRyawAAACkA/wMAAOAAQM5gkDtQzmCAOwAAkDxQzmCAPAAAkDtQzmCAOwDOYP8vAA==\");\n",
       "            });\n",
       "        }\n",
       "        if (typeof require === 'undefined') {\n",
       "            setTimeout(midiPlayerDiv565_play, 2000);\n",
       "        } else {\n",
       "            midiPlayerDiv565_play();\n",
       "        }\n",
       "        </script>"
      ],
      "text/plain": [
       "<IPython.core.display.HTML object>"
      ]
     },
     "metadata": {},
     "output_type": "display_data"
    }
   ],
   "source": [
    "s.clear()\n",
    "\n",
    "# you can select a part of a list by specifying TWO numbers in the square brackets with \":\" in between:\n",
    "\n",
    "melody = [20, 23, 20, 21, 20, 19, 18, 19, 20]\n",
    "\n",
    "# returns a list from melody[2] to melody[4] (doesn't include melody[5])\n",
    "melody_fragment = melody[2:5]\n",
    "print(melody_fragment)\n",
    "\n",
    "for note in melody_fragment:\n",
    "    add_note(note)\n",
    "\n",
    "s.show('midi')\n"
   ]
  },
  {
   "cell_type": "markdown",
   "id": "3Bcuc2t88bu2",
   "metadata": {
    "id": "3Bcuc2t88bu2"
   },
   "source": [
    "### 2.5 Loops inside loops"
   ]
  },
  {
   "cell_type": "code",
   "execution_count": null,
   "id": "urONAHG18amL",
   "metadata": {
    "id": "urONAHG18amL"
   },
   "outputs": [],
   "source": [
    "# Loops can be very powerful. You can call a loop inside a loop.\n",
    "# The example below for example runs the print line 12 times:\n",
    "# for each of the four times of the outer loop, the inner loop runs three times\n",
    "\n",
    "for i in range(4):\n",
    "  for j in range(3):\n",
    "    print(\"i = \", i, \"  j= \", j)"
   ]
  },
  {
   "cell_type": "code",
   "execution_count": 25,
   "id": "5D2lIm91ypDF",
   "metadata": {
    "colab": {
     "base_uri": "https://localhost:8080/",
     "height": 134
    },
    "executionInfo": {
     "elapsed": 25,
     "status": "ok",
     "timestamp": 1752662220542,
     "user": {
      "displayName": "Tom Mudd",
      "userId": "17702228794484531571"
     },
     "user_tz": -60
    },
    "id": "5D2lIm91ypDF",
    "outputId": "9ac8f44f-7d5b-446b-a371-10d917f28c70"
   },
   "outputs": [
    {
     "data": {
      "text/html": [
       "\n",
       "        <div id=\"midiPlayerDiv2010\"></div>\n",
       "        <link rel=\"stylesheet\" href=\"https://cuthbertLab.github.io/music21j/css/m21.css\">\n",
       "        \n",
       "        <script\n",
       "        src=\"https://cdnjs.cloudflare.com/ajax/libs/require.js/2.3.6/require.min.js\"\n",
       "        ></script>\n",
       "    \n",
       "        <script>\n",
       "        function midiPlayerDiv2010_play() {\n",
       "            const rq = require.config({\n",
       "                paths: {\n",
       "                    'music21': 'https://cuthbertLab.github.io/music21j/releases/music21.debug',\n",
       "                }\n",
       "            });\n",
       "            rq(['music21'], function(music21) {\n",
       "                mp = new music21.miditools.MidiPlayer();\n",
       "                mp.addPlayer(\"#midiPlayerDiv2010\");\n",
       "                mp.base64Load(\"data:audio/midi;base64,TVRoZAAAAAYAAQACJ2BNVHJrAAAAFAD/UQMHoSAA/1gEBAIYCM5g/y8ATVRyawAAAk4A/wMAAOAAQM5gkEBQk1iAQAAAkDtQk1iAOwAAkDxQk1iAPAAAkDtQk1iAOwAAkDlQk1iAOQAAkDdQk1iANwAAkDlQk1iAOQAAkDtQk1iAOwAAkDtQk1iAOwAAkDxQk1iAPAAAkDtQk1iAOwAAkDlQk1iAOQAAkDlQk1iAOQAAkDdQk1iANwAAkDlQk1iAOQAAkDtQk1iAOwAAkDxQk1iAPAAAkDtQk1iAOwAAkDlQk1iAOQAAkDdQk1iANwAAkEBQk1iAQAAAkDtQk1iAOwAAkDxQk1iAPAAAkDtQk1iAOwAAkDtQk1iAOwAAkDlQk1iAOQAAkDdQk1iANwAAkDlQk1iAOQAAkDtQk1iAOwAAkDxQk1iAPAAAkDtQk1iAOwAAkDlQk1iAOQAAkDxQk1iAPAAAkDtQk1iAOwAAkDlQk1iAOQAAkDdQk1iANwAAkDtQk1iAOwAAkEBQk1iAQAAAkDtQk1iAOwAAkDxQk1iAPAAAkDtQk1iAOwAAkDlQk1iAOQAAkDdQk1iANwAAkDlQk1iAOQAAkEBQk1iAQAAAkDtQk1iAOwAAkDxQk1iAPAAAkDtQk1iAOwAAkDxQk1iAPAAAkDtQk1iAOwAAkDlQk1iAOQAAkDdQk1iANwAAkEBQk1iAQAAAkDtQk1iAOwAAkDxQk1iAPAAAkDtQk1iAOwAAkDlQk1iAOQAAkDdQk1iANwAAkDlQk1iAOQAAkDtQk1iAOwAAkDtQk1iAOwAAkEBQk1iAQAAAkDtQk1iAOwAAkDxQk1iAPADOYP8vAA==\");\n",
       "            });\n",
       "        }\n",
       "        if (typeof require === 'undefined') {\n",
       "            setTimeout(midiPlayerDiv2010_play, 2000);\n",
       "        } else {\n",
       "            midiPlayerDiv2010_play();\n",
       "        }\n",
       "        </script>"
      ],
      "text/plain": [
       "<IPython.core.display.HTML object>"
      ]
     },
     "metadata": {},
     "output_type": "display_data"
    }
   ],
   "source": [
    "s.clear()\n",
    "\n",
    "# We can use this to repeat things in more sophisticated ways\n",
    "\n",
    "# e.g. here we take fragments of melodies (each 4 notes) as in 2.4 and play them one after the other\n",
    "# the start point is randomised each time\n",
    "\n",
    "melody = [20, 23, 20, 21, 20, 19, 18, 19, 20]\n",
    "fragment_length = 4\n",
    "\n",
    "# run this loop 16 times\n",
    "for i in range(16):\n",
    "\n",
    "  start_index = randint(0, 5)\n",
    "  melody_fragment = melody[start_index : start_index + fragment_length]\n",
    "\n",
    "  # run this loop 16 times x 4 times (there are 4 notes in the melody_fragment)\n",
    "  for note in melody_fragment:\n",
    "    add_note(note, length=0.25)\n",
    "\n",
    "s.show('midi')\n"
   ]
  },
  {
   "cell_type": "markdown",
   "id": "SP_CeQl8RKEi",
   "metadata": {
    "id": "SP_CeQl8RKEi"
   },
   "source": [
    "### 2.6 EXERCISE (below)\n",
    " - Create your own list of notes\n",
    " - Combine examples 2.2 (looping) and 2.3 (randomly choosing a note from your list) above to randomly choose 10 notes from your list, adding them to the stream as you do so\n",
    "\n",
    " Note: make sure the note_index that you create is never larger than the length of your list. In fact it needs to always be 1 less than the length:\n",
    "\n",
    "  E.g. for a list of length 3: `notes = [22, 24, 26]`\n",
    "  - `notes[0]` is 22\n",
    "  - `notes[1]` is 24\n",
    "  - `notes[2]` is 26\n",
    "  - `notes[3]` doesn't exist!\n",
    "\n",
    "Once you have a simple 10 note randomly generated melody, think about how you can develop this, e.g.:\n",
    " - using fragments of the melody - see 2.4\n",
    " - working with chords - see 1.5"
   ]
  },
  {
   "cell_type": "code",
   "execution_count": null,
   "id": "g_GGhYYq-yKc",
   "metadata": {
    "colab": {
     "base_uri": "https://localhost:8080/",
     "height": 134
    },
    "executionInfo": {
     "elapsed": 5,
     "status": "ok",
     "timestamp": 1748525355581,
     "user": {
      "displayName": "Mike Taverne",
      "userId": "05638069109318751735"
     },
     "user_tz": -60
    },
    "id": "g_GGhYYq-yKc",
    "outputId": "7a54e9b4-4a3a-4584-c18e-1e3016fe8c33"
   },
   "outputs": [
    {
     "data": {
      "text/html": [
       "\n",
       "        <div id=\"midiPlayerDiv352\"></div>\n",
       "        <link rel=\"stylesheet\" href=\"https://cuthbertLab.github.io/music21j/css/m21.css\">\n",
       "        \n",
       "        <script\n",
       "        src=\"https://cdnjs.cloudflare.com/ajax/libs/require.js/2.3.6/require.min.js\"\n",
       "        ></script>\n",
       "    \n",
       "        <script>\n",
       "        function midiPlayerDiv352_play() {\n",
       "            const rq = require.config({\n",
       "                paths: {\n",
       "                    'music21': 'https://cuthbertLab.github.io/music21j/releases/music21.debug',\n",
       "                }\n",
       "            });\n",
       "            rq(['music21'], function(music21) {\n",
       "                mp = new music21.miditools.MidiPlayer();\n",
       "                mp.addPlayer(\"#midiPlayerDiv352\");\n",
       "                mp.base64Load(\"data:audio/midi;base64,TVRoZAAAAAYAAQACJ2BNVHJrAAAAFAD/UQMHoSAA/1gEBAIYCM5g/y8ATVRyawAAAAkA/wMAzmD/LwA=\");\n",
       "            });\n",
       "        }\n",
       "        if (typeof require === 'undefined') {\n",
       "            setTimeout(midiPlayerDiv352_play, 2000);\n",
       "        } else {\n",
       "            midiPlayerDiv352_play();\n",
       "        }\n",
       "        </script>"
      ],
      "text/plain": [
       "<IPython.core.display.HTML object>"
      ]
     },
     "metadata": {},
     "output_type": "display_data"
    }
   ],
   "source": [
    "s.clear()\n",
    "\n",
    "# Exercise 2.6\n",
    "# Try things out in this code block (above the s.show('midi) line)\n",
    "\n",
    "## YOUR CODE BELOW HERE\n",
    "\n",
    "\n",
    "\n",
    "\n",
    "## YOUR CODE ABOVE HERE\n",
    "\n",
    "s.show('midi')"
   ]
  },
  {
   "cell_type": "markdown",
   "id": "4sQfX_7R6_C5",
   "metadata": {
    "id": "4sQfX_7R6_C5"
   },
   "source": [
    "## 3 Structure"
   ]
  },
  {
   "cell_type": "markdown",
   "id": "AQwsUhEK7FYf",
   "metadata": {
    "id": "AQwsUhEK7FYf"
   },
   "source": [
    "### 3.1 Building a larer piece from smaller components"
   ]
  },
  {
   "cell_type": "markdown",
   "id": "UF5Id_4cAIut",
   "metadata": {
    "id": "UF5Id_4cAIut"
   },
   "source": [
    "You might think of your piece as composed of a number of sections. One way to break things down would be to have different code blocks for each section. You can then run the code blocks in a particular order to achieve a particular structure. As long as you don't call `s.clear()` in between, the notes will be added to wherever you left off.\n",
    "\n",
    "Try the following with the code examples below\n",
    " - run `s.clear()`\n",
    " - run section 1\n",
    " - run section 2\n",
    " - run section 1 again\n",
    " - run section 2 again\n",
    " - run section 1 again (again)\n",
    " - run `s.show('midi')`"
   ]
  },
  {
   "cell_type": "code",
   "execution_count": null,
   "id": "SeW-P2HN7c3o",
   "metadata": {
    "id": "SeW-P2HN7c3o"
   },
   "outputs": [],
   "source": [
    "# run this first\n",
    "s.clear()"
   ]
  },
  {
   "cell_type": "code",
   "execution_count": null,
   "id": "dAEE-AXG7xTL",
   "metadata": {
    "colab": {
     "base_uri": "https://localhost:8080/"
    },
    "executionInfo": {
     "elapsed": 5,
     "status": "ok",
     "timestamp": 1748525382411,
     "user": {
      "displayName": "Mike Taverne",
      "userId": "05638069109318751735"
     },
     "user_tz": -60
    },
    "id": "dAEE-AXG7xTL",
    "outputId": "ce65b0e1-0b39-48ec-b6e0-4eacbb9310de"
   },
   "outputs": [
    {
     "name": "stdout",
     "output_type": "stream",
     "text": [
      "added notes from section 1 to the sequence\n"
     ]
    }
   ],
   "source": [
    "# Section 1 - rising patterns that move around\n",
    "\n",
    "pattern = [0, 2, 3, 7]\n",
    "transpositions = [0, 5, 3, 5]\n",
    "\n",
    "lowest_pitch = 12\n",
    "\n",
    "for i in range(16):\n",
    "\n",
    "  # pick one of the transpositions above randomly\n",
    "  which_transposition = randint(0, 3)\n",
    "  transposition = transpositions[which_transposition]\n",
    "\n",
    "  for j in range(4):\n",
    "\n",
    "    # move through the melody, adding the random transposition\n",
    "    # (and moving things up to start at the lowest_pitch)\n",
    "    note = pattern[j] + transposition + lowest_pitch\n",
    "\n",
    "    add_note(note, 0.25, 80)\n",
    "\n",
    "print(\"added notes from section 1 to the sequence\")"
   ]
  },
  {
   "cell_type": "code",
   "execution_count": null,
   "id": "Jn3YZHWM7xJz",
   "metadata": {
    "colab": {
     "base_uri": "https://localhost:8080/"
    },
    "executionInfo": {
     "elapsed": 8,
     "status": "ok",
     "timestamp": 1748525386306,
     "user": {
      "displayName": "Mike Taverne",
      "userId": "05638069109318751735"
     },
     "user_tz": -60
    },
    "id": "Jn3YZHWM7xJz",
    "outputId": "6b62f2e4-6439-4f77-ae85-2d8556a7a28a"
   },
   "outputs": [
    {
     "name": "stdout",
     "output_type": "stream",
     "text": [
      "added notes from section 2 to the sequence\n"
     ]
    }
   ],
   "source": [
    "# Section 2 - chords\n",
    "\n",
    "chord_roots = [0, 5, 2, 3]\n",
    "\n",
    "rhythm = [1, 1, 0.5, 0.5]\n",
    "\n",
    "lowest_pitch = 7\n",
    "\n",
    "for i in range(16):\n",
    "\n",
    "  # get a value that is always between 0 and the length of our sequence of chords (e.g. 0, 1, 2, 3, 0, 1, 2, 3, etc)\n",
    "  four_step_count = i % len(chord_roots)\n",
    "\n",
    "  # use this to create a chord, each note is a random distance above the previous note in the chord\n",
    "\n",
    "  first_note  = chord_roots[four_step_count] + lowest_pitch\n",
    "  second_note = first_note  + randint(2, 10)\n",
    "  third_note  = second_note + randint(1, 10)\n",
    "\n",
    "  chord = [first_note, second_note, third_note]\n",
    "\n",
    "  length = rhythm[four_step_count]\n",
    "\n",
    "  add_chord(chord, length, 80)\n",
    "\n",
    "print(\"added notes from section 2 to the sequence\")"
   ]
  },
  {
   "cell_type": "code",
   "execution_count": null,
   "id": "9LLtjNQ97gWl",
   "metadata": {
    "id": "9LLtjNQ97gWl"
   },
   "outputs": [],
   "source": [
    "# run this last\n",
    "s.show('midi')"
   ]
  },
  {
   "cell_type": "markdown",
   "id": "0EC8kAvq_7tJ",
   "metadata": {
    "id": "0EC8kAvq_7tJ"
   },
   "source": [
    "### 3.2 Generative Structure\n",
    "\n"
   ]
  },
  {
   "cell_type": "markdown",
   "id": "Yn2poPpzAOFs",
   "metadata": {
    "id": "Yn2poPpzAOFs"
   },
   "source": [
    "You could also use the code to make decisions about which sections happen when.\n",
    "A handy way to do this is to create functions for your sections. The code below wraps the examples from 3.1 inside functions, then the final code cell calls these functions in a randomised order, with randomised parameters for how long each section is."
   ]
  },
  {
   "cell_type": "code",
   "execution_count": null,
   "id": "w0a_3-3l_7hI",
   "metadata": {
    "id": "w0a_3-3l_7hI"
   },
   "outputs": [],
   "source": [
    "def section1(repetitions=16):\n",
    "  \"\"\" section 1 as a function. The argument determins the number of repetitions \"\"\"\n",
    "\n",
    "  # a randomised list each time we run the section!\n",
    "  pattern = [randint(0, 8) for i in range(4)]\n",
    "  transpositions = [0, 5, 3, 5]\n",
    "\n",
    "  lowest_pitch = 12\n",
    "\n",
    "  for i in range(repetitions):\n",
    "\n",
    "    # pick one of the transpositions above randomly\n",
    "    which_transposition = randint(0, 3)\n",
    "    transposition = transpositions[which_transposition]\n",
    "\n",
    "    for j in range(4):\n",
    "\n",
    "      # move through the melody, adding the random transposition\n",
    "      # (and moving things up to start at the lowest_pitch)\n",
    "      note = pattern[j] + transposition + lowest_pitch\n",
    "\n",
    "      add_note(note, 0.25, 80)\n",
    "\n",
    "  print(\"added notes from section 1 to the sequence (with %d repetitions)\" % repetitions)\n",
    "\n",
    "\n",
    "def section2(repetitions=8):\n",
    "  \"\"\" section 1 as a function. The argument determins the number of repetitions \"\"\"\n",
    "\n",
    "  chord_roots = [0, 5, 2, 3]\n",
    "  rhythm = [1, 1, 0.5, 0.5]\n",
    "\n",
    "  # added variation so the section is higher or lower each time it is run\n",
    "  lowest_pitch = randint(7, 20)\n",
    "\n",
    "  for i in range(16):\n",
    "\n",
    "    # get a value that is always between 0 and the length of our sequence of chords (e.g. 0, 1, 2, 3, 0, 1, 2, 3, etc)\n",
    "    four_step_count = i % len(chord_roots)\n",
    "\n",
    "    # use this to create a chord, each note is a random distance above the previous note in the chord\n",
    "\n",
    "    first_note  = chord_roots[four_step_count] + lowest_pitch\n",
    "    second_note = first_note  + randint(2, 10)\n",
    "    third_note  = second_note + randint(1, 10)\n",
    "\n",
    "    chord = [first_note, second_note, third_note]\n",
    "\n",
    "    length = rhythm[four_step_count]\n",
    "\n",
    "    add_chord(chord, length, 80)\n",
    "\n",
    "  print(\"added notes from section 2 to the sequence (with %d repetitions)\" % repetitions)"
   ]
  },
  {
   "cell_type": "code",
   "execution_count": null,
   "id": "o9ad8QmKBG-T",
   "metadata": {
    "colab": {
     "base_uri": "https://localhost:8080/",
     "height": 273
    },
    "executionInfo": {
     "elapsed": 8,
     "status": "ok",
     "timestamp": 1748525393676,
     "user": {
      "displayName": "Mike Taverne",
      "userId": "05638069109318751735"
     },
     "user_tz": -60
    },
    "id": "o9ad8QmKBG-T",
    "outputId": "43c7fe8d-633f-4035-db43-f2d24f68cd04"
   },
   "outputs": [
    {
     "name": "stdout",
     "output_type": "stream",
     "text": [
      "added notes from section 1 to the sequence (with 4 repetitions)\n",
      "added notes from section 1 to the sequence (with 3 repetitions)\n",
      "added notes from section 1 to the sequence (with 4 repetitions)\n",
      "added notes from section 1 to the sequence (with 4 repetitions)\n",
      "added notes from section 2 to the sequence (with 2 repetitions)\n",
      "added notes from section 2 to the sequence (with 3 repetitions)\n",
      "added notes from section 1 to the sequence (with 4 repetitions)\n",
      "added notes from section 1 to the sequence (with 3 repetitions)\n"
     ]
    },
    {
     "data": {
      "text/html": [
       "\n",
       "        <div id=\"midiPlayerDiv1550\"></div>\n",
       "        <link rel=\"stylesheet\" href=\"https://cuthbertLab.github.io/music21j/css/m21.css\">\n",
       "        \n",
       "        <script\n",
       "        src=\"https://cdnjs.cloudflare.com/ajax/libs/require.js/2.3.6/require.min.js\"\n",
       "        ></script>\n",
       "    \n",
       "        <script>\n",
       "        function midiPlayerDiv1550_play() {\n",
       "            const rq = require.config({\n",
       "                paths: {\n",
       "                    'music21': 'https://cuthbertLab.github.io/music21j/releases/music21.debug',\n",
       "                }\n",
       "            });\n",
       "            rq(['music21'], function(music21) {\n",
       "                mp = new music21.miditools.MidiPlayer();\n",
       "                mp.addPlayer(\"#midiPlayerDiv1550\");\n",
       "                mp.base64Load(\"data:audio/midi;base64,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\");\n",
       "            });\n",
       "        }\n",
       "        if (typeof require === 'undefined') {\n",
       "            setTimeout(midiPlayerDiv1550_play, 2000);\n",
       "        } else {\n",
       "            midiPlayerDiv1550_play();\n",
       "        }\n",
       "        </script>"
      ],
      "text/plain": [
       "<IPython.core.display.HTML object>"
      ]
     },
     "metadata": {},
     "output_type": "display_data"
    }
   ],
   "source": [
    "# Create a structure using these functions\n",
    "s.clear()\n",
    "\n",
    "# 8 sections\n",
    "for i in range(8):\n",
    "\n",
    "  # random length for each section 2-4 repetitions\n",
    "  section_length = randint(2, 4)\n",
    "\n",
    "  # random value between 0-100.\n",
    "  # If it's less than 50, then we'll get section 1, otherwise section 2\n",
    "  random_value = randint(0, 99)\n",
    "\n",
    "  if random_value < 50:\n",
    "    section1(section_length)\n",
    "  else:\n",
    "    section2(section_length)\n",
    "\n",
    "s.show('midi')"
   ]
  },
  {
   "cell_type": "markdown",
   "id": "qybIicjBEIZX",
   "metadata": {
    "id": "qybIicjBEIZX"
   },
   "source": [
    "### 3.3 EXERCISE\n",
    "\n",
    "Try creating your own piece with your own structure:\n",
    " - create your own functions using the above as a template\n",
    " - change them to be something of your own: different patterns, different ways to generate notes\n",
    " - add a `def section3()` and perhaps a `def section4()`\n",
    " - how can you make the sections vary each time they are run, so they are not always the same?\n",
    "  - random variation within each function?\n",
    "  - add extra arguments (after `repetitions`) so that you can pass in variables, e.g. `section1(repetitions=2, lowest_note=5)`\n",
    " - write some code that automatically creates several sections\n",
    "  - start with the above as a template\n",
    "  - what other ways to order the sections might their be:\n",
    "    - a list with the order?\n",
    "    - randomisation but with different odds for different sections?\n",
    "    - rules for which section can follow another section?\n"
   ]
  },
  {
   "cell_type": "code",
   "execution_count": null,
   "id": "TYaqZN3YE8NL",
   "metadata": {
    "id": "TYaqZN3YE8NL"
   },
   "outputs": [],
   "source": [
    "# Your code goes here\n",
    "# Add as many code cells as you need\n",
    "# don't forget to run s.clear() to empty all current notes, and s.show('midi') to output the final piece"
   ]
  },
  {
   "cell_type": "markdown",
   "id": "dQRAolsZIBDr",
   "metadata": {
    "id": "dQRAolsZIBDr"
   },
   "source": [
    "## Appendix: example pieces\n"
   ]
  },
  {
   "cell_type": "markdown",
   "id": "T3uPhPSv_Nll",
   "metadata": {
    "id": "T3uPhPSv_Nll"
   },
   "source": [
    "### A1 A simple example with chords"
   ]
  },
  {
   "cell_type": "code",
   "execution_count": 35,
   "id": "rk4b3wdD1Lz7",
   "metadata": {
    "colab": {
     "base_uri": "https://localhost:8080/",
     "height": 134
    },
    "executionInfo": {
     "elapsed": 65,
     "status": "ok",
     "timestamp": 1752663327818,
     "user": {
      "displayName": "Tom Mudd",
      "userId": "17702228794484531571"
     },
     "user_tz": -60
    },
    "id": "rk4b3wdD1Lz7",
    "outputId": "719827d7-91f0-42d0-9245-4b856ebd4a58"
   },
   "outputs": [
    {
     "data": {
      "text/html": [
       "\n",
       "        <div id=\"midiPlayerDiv3785\"></div>\n",
       "        <link rel=\"stylesheet\" href=\"https://cuthbertLab.github.io/music21j/css/m21.css\">\n",
       "        \n",
       "        <script\n",
       "        src=\"https://cdnjs.cloudflare.com/ajax/libs/require.js/2.3.6/require.min.js\"\n",
       "        ></script>\n",
       "    \n",
       "        <script>\n",
       "        function midiPlayerDiv3785_play() {\n",
       "            const rq = require.config({\n",
       "                paths: {\n",
       "                    'music21': 'https://cuthbertLab.github.io/music21j/releases/music21.debug',\n",
       "                }\n",
       "            });\n",
       "            rq(['music21'], function(music21) {\n",
       "                mp = new music21.miditools.MidiPlayer();\n",
       "                mp.addPlayer(\"#midiPlayerDiv3785\");\n",
       "                mp.base64Load(\"data:audio/midi;base64,TVRoZAAAAAYAAQACJ2BNVHJrAAAAFAD/UQMHoSAA/1gEBAIYCM5g/y8ATVRyawAABIIA/wMAAOAAQM5gkEhkAJA8ZACQQGSnMIBIAACAPAAAgEAAAJBHO5NYgEcAAJBDP5NYgEMAAJBFQpNYgEUAAJBDRpNYgEMAAJBAR5NYgEAAAJA+R5NYgD4AAJBBZACQNWQAkDlkpzCAQQAAgDUAAIA5AACQRUmTWIBFAACQSESTWIBIAACQTECTWIBMAACQSjyTWIBKAACQTD+TWIBMAACQTECTWIBMAACQSGQAkDxkAJBAZKcwgEgAAIA8AACAQAAAkEpEk1iASgAAkEhAk1iASAAAkEo+k1iASgAAkEc7k1iARwAAkEo3k1iASgAAkE03k1iATQAAkEpkAJA+ZACQQWSnMIBKAACAPgAAgEEAAJBHPZNYgEcAAJBDPJNYgEMAAJBAPJNYgEAAAJBAPJNYgEAAAJBDOZNYgEMAAJBBOpNYgEEAAJBAZACQNGQAkDdkpzCAQAAAgDQAAIA3AACQQzmTWIBDAACQQDiTWIBAAACQPjeTWIA+AACQQTKTWIBBAACQQS2TWIBBAACQQS2TWIBBAACQQGQAkDRkAJA3ZKcwgEAAAIA0AACANwAAkDwuk1iAPAAAkDkyk1iAOQAAkDczk1iANwAAkDs2k1iAOwAAkDc6k1iANwAAkDs7k1iAOwAAkD5kAJAyZACQNWSnMIA+AACAMgAAgDUAAJBBNpNYgEEAAJA+NJNYgD4AAJBANJNYgEAAAJBBNJNYgEEAAJBDOJNYgEMAAJBBNJNYgEEAAJBDZACQN2QAkDtkpzCAQwAAgDcAAIA7AACQQTOTWIBBAACQQTOTWIBBAACQRTKTWIBFAACQRzGTWIBHAACQSDSTWIBIAACQRTiTWIBFAACQQWQAkDVkAJA5ZKcwgEEAAIA1AACAOQAAkEUzk1iARQAAkEcuk1iARwAAkEUtk1iARQAAkEEqk1iAQQAAkEEqk1iAQQAAkEEok1iAQQAAkD5kAJAyZACQNWSnMIA+AACAMgAAgDUAAJA7J5NYgDsAAJA7I5NYgDsAAJA7JZNYgDsAAJA7KpNYgDsAAJA5LJNYgDkAAJA8MJNYgDwAAJA7ZACQL2QAkDJkpzCAOwAAgC8AAIAyAACQOyiTWIA7AACQOSqTWIA5AACQPCeTWIA8AACQOSOTWIA5AACQPCiTWIA8AACQQCeTWIBAAACQQGQAkDRkAJA3ZKcwgEAAAIA0AACANwAAkDwlk1iAPAAAkEAqk1iAQAAAkEEuk1iAQQAAkEAsk1iAQAAAkEAok1iAQAAAkEAmk1iAQAAAkDxkAJAwZACQNGSnMIA8AACAMAAAgDQAAJA5I5NYgDkAAJA3JpNYgDcAAJA1IZNYgDUAAJAyJZNYgDIAAJA1IJNYgDUAAJA0JZNYgDQAAJAwZACQJGQAkChkpzCAMAAAgCQAAIAoAACQLSeTWIAtAACQLSmTWIAtAACQMCuTWIAwAACQLS2TWIAtAACQLS2TWIAtAACQLy+TWIAvAACQK2QAkB9kAJAjZKcwgCsAAIAfAACAIwAAkCkvk1iAKQDOYP8vAA==\");\n",
       "            });\n",
       "        }\n",
       "        if (typeof require === 'undefined') {\n",
       "            setTimeout(midiPlayerDiv3785_play, 2000);\n",
       "        } else {\n",
       "            midiPlayerDiv3785_play();\n",
       "        }\n",
       "        </script>"
      ],
      "text/plain": [
       "<IPython.core.display.HTML object>"
      ]
     },
     "metadata": {},
     "output_type": "display_data"
    }
   ],
   "source": [
    "# Chords plus melody\n",
    "\n",
    "s.clear()\n",
    "\n",
    "\n",
    "pitch = 30\n",
    "volume = 60\n",
    "\n",
    "# run this loop 100 times\n",
    "for i in range(100):\n",
    "\n",
    "  # move our note up or down by up to 2 degrees of the scale\n",
    "  pitch += randint(-2, 2)\n",
    "\n",
    "  # check that the pitch hasn't gone below zero or above the highest note in our scale\n",
    "  # if it has, then move it back somewhere safe\n",
    "  if (pitch < 0):\n",
    "    pitch = 10\n",
    "  if (pitch >= len(minorScale)):\n",
    "    pitch = 20\n",
    "\n",
    "  # increase or decrease the volume by up to 5\n",
    "  # the clip() function prevents it from being less than 10 or more than 100\n",
    "  volume += randint(-5, 5)\n",
    "  volume = clip(volume, 10, 100)\n",
    "\n",
    "  # every 7 times, play a chord instead of a single note\n",
    "  if i%7 == 0:\n",
    "    add_chord([pitch, pitch-7, pitch-5], 0.5, 100)\n",
    "  # the rest of the time, just play a single note\n",
    "  else:\n",
    "    add_note(pitch, 0.25, volume)\n",
    "\n",
    "s.show('midi')"
   ]
  },
  {
   "cell_type": "markdown",
   "id": "MuMD5O0X3YPA",
   "metadata": {
    "id": "MuMD5O0X3YPA"
   },
   "source": [
    "### A2: Rapid jazz piano\n",
    "There's no real structure here, but you could think about how to develop it with some of the approaches outlined above."
   ]
  },
  {
   "cell_type": "code",
   "execution_count": 36,
   "id": "8DEOtPaY3P0o",
   "metadata": {
    "colab": {
     "base_uri": "https://localhost:8080/",
     "height": 134
    },
    "executionInfo": {
     "elapsed": 90,
     "status": "ok",
     "timestamp": 1752663334478,
     "user": {
      "displayName": "Tom Mudd",
      "userId": "17702228794484531571"
     },
     "user_tz": -60
    },
    "id": "8DEOtPaY3P0o",
    "outputId": "67f22bba-6649-43c3-85ed-1e27479d2f1b"
   },
   "outputs": [
    {
     "data": {
      "text/html": [
       "\n",
       "        <div id=\"midiPlayerDiv4564\"></div>\n",
       "        <link rel=\"stylesheet\" href=\"https://cuthbertLab.github.io/music21j/css/m21.css\">\n",
       "        \n",
       "        <script\n",
       "        src=\"https://cdnjs.cloudflare.com/ajax/libs/require.js/2.3.6/require.min.js\"\n",
       "        ></script>\n",
       "    \n",
       "        <script>\n",
       "        function midiPlayerDiv4564_play() {\n",
       "            const rq = require.config({\n",
       "                paths: {\n",
       "                    'music21': 'https://cuthbertLab.github.io/music21j/releases/music21.debug',\n",
       "                }\n",
       "            });\n",
       "            rq(['music21'], function(music21) {\n",
       "                mp = new music21.miditools.MidiPlayer();\n",
       "                mp.addPlayer(\"#midiPlayerDiv4564\");\n",
       "                mp.base64Load(\"data:audio/midi;base64,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\");\n",
       "            });\n",
       "        }\n",
       "        if (typeof require === 'undefined') {\n",
       "            setTimeout(midiPlayerDiv4564_play, 2000);\n",
       "        } else {\n",
       "            midiPlayerDiv4564_play();\n",
       "        }\n",
       "        </script>"
      ],
      "text/plain": [
       "<IPython.core.display.HTML object>"
      ]
     },
     "metadata": {},
     "output_type": "display_data"
    }
   ],
   "source": [
    "# Rapid jazz piano\n",
    "# A simple 30 second piece that uses some of the above\n",
    "# More chord stacks\n",
    "\n",
    "s.clear()\n",
    "\n",
    "melody1 = [0, 5, 2, 1]    # experiment with this\n",
    "melody2 = [7, 6, 5, 4]    # experiment with this\n",
    "\n",
    "# offsets: how much to add to each note\n",
    "offset1 = 10\n",
    "offset2 = 15\n",
    "\n",
    "# used to divide all of the length values.\n",
    "# e.g. if tempo is 2, then everything is twice as fast. if tempo is 0.5, then everything is half as fast\n",
    "tempo = 1\n",
    "\n",
    "\n",
    "for i in range(200):\n",
    "  pitch1 = melody1[i % 4] + offset1\n",
    "\n",
    "  # every even step (i%2), output a single note\n",
    "  if i%2 == 0:\n",
    "    add_note(pitch1, 0.25 / tempo, 90)\n",
    "\n",
    "  # every odd step, there is a 50% chance that a chord will play, using the melody2 notes\n",
    "  else:\n",
    "    if randint(0, 100) < 50:\n",
    "      pitch2 = melody2[i % 4] + offset2\n",
    "      add_note([pitch1, pitch1+5, pitch2, pitch2+5], 0.5 / tempo, 90)\n",
    "\n",
    "  # the tempo moves around a little\n",
    "  # \"*=\"\" means \"multiplies itself by\", so here the tempo gets slightly slower or slightly faster\n",
    "  tempo *= uniform(0.98, 1/0.98)\n",
    "\n",
    "  # every 16 steps, change the offset for our notes (move the register up or down)\n",
    "  if i%16 == 0:\n",
    "    offset1 = randint(10, 20)\n",
    "    offset2 = randint(10, 20)\n",
    "\n",
    "\n",
    "# finish the piece with a few longer chords (continuing from whichever pitches we finished with)\n",
    "add_note([pitch1, pitch1+5, pitch2, pitch2+5],  1 / tempo,  80)\n",
    "add_note([pitch1, pitch1+8, pitch2, pitch2+9],  2 / tempo,  90)\n",
    "add_note([pitch1, pitch1+8, pitch2, pitch2+11], 2 / tempo,  90)\n",
    "add_note([pitch1, pitch1+2, pitch2, pitch2+2],  16 / tempo, 105)\n",
    "\n",
    "\n",
    "\n",
    "s.show('midi')"
   ]
  }
 ],
 "metadata": {
  "colab": {
   "provenance": []
  },
  "kernelspec": {
   "display_name": "Python 3 (ipykernel)",
   "language": "python",
   "name": "python3"
  },
  "language_info": {
   "codemirror_mode": {
    "name": "ipython",
    "version": 3
   },
   "file_extension": ".py",
   "mimetype": "text/x-python",
   "name": "python",
   "nbconvert_exporter": "python",
   "pygments_lexer": "ipython3",
   "version": "3.9.0"
  }
 },
 "nbformat": 4,
 "nbformat_minor": 5
}
